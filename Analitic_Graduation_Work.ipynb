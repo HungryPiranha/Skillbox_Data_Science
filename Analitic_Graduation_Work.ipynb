{
 "cells": [
  {
   "cell_type": "code",
   "execution_count": 2,
   "metadata": {},
   "outputs": [],
   "source": [
    "import numpy as np\n",
    "import pandas as pd\n",
    "import plotly.express as px\n",
    "import matplotlib.pyplot as plt\n",
    "import seaborn as sns\n",
    "import missingno as msno"
   ]
  },
  {
   "cell_type": "markdown",
   "metadata": {},
   "source": [
    "Загрузим наш датасет"
   ]
  },
  {
   "cell_type": "code",
   "execution_count": 3,
   "metadata": {},
   "outputs": [
    {
     "data": {
      "text/html": [
       "<div>\n",
       "<style scoped>\n",
       "    .dataframe tbody tr th:only-of-type {\n",
       "        vertical-align: middle;\n",
       "    }\n",
       "\n",
       "    .dataframe tbody tr th {\n",
       "        vertical-align: top;\n",
       "    }\n",
       "\n",
       "    .dataframe thead th {\n",
       "        text-align: right;\n",
       "    }\n",
       "</style>\n",
       "<table border=\"1\" class=\"dataframe\">\n",
       "  <thead>\n",
       "    <tr style=\"text-align: right;\">\n",
       "      <th></th>\n",
       "      <th>user_id</th>\n",
       "      <th>Q1</th>\n",
       "      <th>Q2</th>\n",
       "      <th>Total Traffic(MB)</th>\n",
       "      <th>Downlink Throughput(Kbps)</th>\n",
       "      <th>Uplink Throughput(Kbps)</th>\n",
       "      <th>Downlink TCP Retransmission Rate(%)</th>\n",
       "      <th>Video Streaming Download Throughput(Kbps)</th>\n",
       "      <th>Video Streaming xKB Start Delay(ms)</th>\n",
       "      <th>Web Page Download Throughput(Kbps)</th>\n",
       "      <th>Web Average TCP RTT(ms)</th>\n",
       "    </tr>\n",
       "  </thead>\n",
       "  <tbody>\n",
       "    <tr>\n",
       "      <th>0</th>\n",
       "      <td>1</td>\n",
       "      <td>5</td>\n",
       "      <td>NaN</td>\n",
       "      <td>775.48846</td>\n",
       "      <td>360.13</td>\n",
       "      <td>86.56</td>\n",
       "      <td>3.93</td>\n",
       "      <td>1859.15</td>\n",
       "      <td>2309</td>\n",
       "      <td>1007.82</td>\n",
       "      <td>83</td>\n",
       "    </tr>\n",
       "    <tr>\n",
       "      <th>1</th>\n",
       "      <td>2</td>\n",
       "      <td>5</td>\n",
       "      <td>4</td>\n",
       "      <td>861.96324</td>\n",
       "      <td>3023.54</td>\n",
       "      <td>411.18</td>\n",
       "      <td>1.27</td>\n",
       "      <td>667.47</td>\n",
       "      <td>2080</td>\n",
       "      <td>255.36</td>\n",
       "      <td>425</td>\n",
       "    </tr>\n",
       "    <tr>\n",
       "      <th>2</th>\n",
       "      <td>3</td>\n",
       "      <td>1</td>\n",
       "      <td>4</td>\n",
       "      <td>261.11860</td>\n",
       "      <td>790.96</td>\n",
       "      <td>34.20</td>\n",
       "      <td>1.79</td>\n",
       "      <td>1079.60</td>\n",
       "      <td>6367</td>\n",
       "      <td>535.85</td>\n",
       "      <td>485</td>\n",
       "    </tr>\n",
       "    <tr>\n",
       "      <th>3</th>\n",
       "      <td>4</td>\n",
       "      <td>8</td>\n",
       "      <td>3</td>\n",
       "      <td>179.18564</td>\n",
       "      <td>2590.97</td>\n",
       "      <td>325.88</td>\n",
       "      <td>0.80</td>\n",
       "      <td>7053.81</td>\n",
       "      <td>3218</td>\n",
       "      <td>1221.02</td>\n",
       "      <td>51</td>\n",
       "    </tr>\n",
       "    <tr>\n",
       "      <th>4</th>\n",
       "      <td>5</td>\n",
       "      <td>2</td>\n",
       "      <td>2, 3, 4</td>\n",
       "      <td>351.99208</td>\n",
       "      <td>731.61</td>\n",
       "      <td>223.54</td>\n",
       "      <td>1.15</td>\n",
       "      <td>4550.38</td>\n",
       "      <td>1767</td>\n",
       "      <td>2336.56</td>\n",
       "      <td>68</td>\n",
       "    </tr>\n",
       "  </tbody>\n",
       "</table>\n",
       "</div>"
      ],
      "text/plain": [
       "   user_id Q1       Q2  Total Traffic(MB)  Downlink Throughput(Kbps)  \\\n",
       "0        1  5      NaN          775.48846                     360.13   \n",
       "1        2  5        4          861.96324                    3023.54   \n",
       "2        3  1        4          261.11860                     790.96   \n",
       "3        4  8        3          179.18564                    2590.97   \n",
       "4        5  2  2, 3, 4          351.99208                     731.61   \n",
       "\n",
       "   Uplink Throughput(Kbps)  Downlink TCP Retransmission Rate(%)  \\\n",
       "0                    86.56                                 3.93   \n",
       "1                   411.18                                 1.27   \n",
       "2                    34.20                                 1.79   \n",
       "3                   325.88                                 0.80   \n",
       "4                   223.54                                 1.15   \n",
       "\n",
       "   Video Streaming Download Throughput(Kbps)  \\\n",
       "0                                    1859.15   \n",
       "1                                     667.47   \n",
       "2                                    1079.60   \n",
       "3                                    7053.81   \n",
       "4                                    4550.38   \n",
       "\n",
       "   Video Streaming xKB Start Delay(ms)  Web Page Download Throughput(Kbps)  \\\n",
       "0                                 2309                             1007.82   \n",
       "1                                 2080                              255.36   \n",
       "2                                 6367                              535.85   \n",
       "3                                 3218                             1221.02   \n",
       "4                                 1767                             2336.56   \n",
       "\n",
       "   Web Average TCP RTT(ms)  \n",
       "0                       83  \n",
       "1                      425  \n",
       "2                      485  \n",
       "3                       51  \n",
       "4                       68  "
      ]
     },
     "execution_count": 3,
     "metadata": {},
     "output_type": "execute_result"
    }
   ],
   "source": [
    "df = pd.read_csv(\"megafon.csv\")\n",
    "df.head()"
   ]
  },
  {
   "cell_type": "markdown",
   "metadata": {},
   "source": [
    "Посмотрим на пропущенные значения"
   ]
  },
  {
   "cell_type": "code",
   "execution_count": 4,
   "metadata": {},
   "outputs": [
    {
     "data": {
      "image/png": "[encoded data removed]",
      "text/plain": [
       "<Figure size 1800x720 with 2 Axes>"
      ]
     },
     "metadata": {
      "needs_background": "light"
     },
     "output_type": "display_data"
    }
   ],
   "source": [
    "msno.matrix(df)\n",
    "plt.show()"
   ]
  },
  {
   "cell_type": "markdown",
   "metadata": {},
   "source": [
    "В столбце, отвечающем за второй вопрос, оказалось довольно много пропущенных значений. <br>\n",
    "Посмотрим на них в числах."
   ]
  },
  {
   "cell_type": "code",
   "execution_count": 5,
   "metadata": {},
   "outputs": [
    {
     "data": {
      "text/plain": [
       "user_id                                         0\n",
       "Q1                                              2\n",
       "Q2                                           1797\n",
       "Total Traffic(MB)                               0\n",
       "Downlink Throughput(Kbps)                       0\n",
       "Uplink Throughput(Kbps)                         0\n",
       "Downlink TCP Retransmission Rate(%)             0\n",
       "Video Streaming Download Throughput(Kbps)       0\n",
       "Video Streaming xKB Start Delay(ms)             0\n",
       "Web Page Download Throughput(Kbps)              0\n",
       "Web Average TCP RTT(ms)                         0\n",
       "dtype: int64"
      ]
     },
     "execution_count": 5,
     "metadata": {},
     "output_type": "execute_result"
    }
   ],
   "source": [
    "df.isna().sum()"
   ]
  },
  {
   "cell_type": "markdown",
   "metadata": {},
   "source": [
    "Видно, что на второй вопрос согласились отвечать чуть более половины абонентов, прошедших опрос. Также двое человек, похоже, отказались проходить опрос или намеренно испортили ответ. Они нам в исследовании не помогут, их рассматривать не будем."
   ]
  },
  {
   "cell_type": "code",
   "execution_count": 6,
   "metadata": {},
   "outputs": [],
   "source": [
    "df.dropna(axis=0, subset=[\"Q1\"], inplace=True)"
   ]
  },
  {
   "cell_type": "markdown",
   "metadata": {},
   "source": [
    "Теперь посмотрим уникальные значения столбца общей удовлетворённости абонентов связью:"
   ]
  },
  {
   "cell_type": "code",
   "execution_count": 7,
   "metadata": {},
   "outputs": [
    {
     "data": {
      "text/plain": [
       "array(['5', '1', '8', '2', '3', '9', '10', '7', '4', '11', '6', '2, 9',\n",
       "       '0', '1, 3', '19', '15', '1, 6', '***** ** ***',\n",
       "       '3 - дер.Ширяево Волоколамского района, 9 - в Москве', '10, 9',\n",
       "       'Чем даль ше,тем лучше.Спасибо за ваш труд.Оценка 10 !',\n",
       "       'ОЦЕНКА-3/НЕВАЖНО/', 'Отвратительно',\n",
       "       'Я ценой услуг не удовлетворен', 'Пока не понял', '3, 9', '5, 6',\n",
       "       '0, 1, 5', '5, 7', 'Hi',\n",
       "       '4. Тульская область Заокский район. Романовские дачи связи почти нет',\n",
       "       'Немагу дать атценку денги незашто снимаеть скоро выклучаю',\n",
       "       '10, 50',\n",
       "       'Очень  хорошо. Обслуживания  я довольно. Спасибо вам.555', '?',\n",
       "       'Поохое',\n",
       "       'Когда в Москве-10 а когда в калужской области в деревне Бели-1',\n",
       "       'Нет', 'Да', 'Ужасно',\n",
       "       '3 тройка, связь отвратительная, жалко платить за такой тарив',\n",
       "       'Чдтчдтччдтччч', '3, 7', '20, 89031081392', '1, 8', 'Без з',\n",
       "       '10, 5', '2, 5',\n",
       "       'Я в Смол. Области живу сейчас, не пользуюсь телефоном совсем'],\n",
       "      dtype=object)"
      ]
     },
     "execution_count": 7,
     "metadata": {},
     "output_type": "execute_result"
    }
   ],
   "source": [
    "df.Q1.unique()"
   ]
  },
  {
   "cell_type": "markdown",
   "metadata": {},
   "source": [
    "Как видно, некоторые абоненты заполнили неправильно или пытались дать 2 ответа!"
   ]
  },
  {
   "cell_type": "markdown",
   "metadata": {},
   "source": [
    "В том случае, если абонент заполнил 2 оценки и обе из них не превышают 10 - возьмём среднюю и округлим до целых чисел, если оценка одна и выше 10 - исправим на 10. Также наша шкала начинается с оценки 1, поэтому заменим нули, которые поставили пользователи на единицы. Остальные значения придётся чистить вручную."
   ]
  },
  {
   "cell_type": "code",
   "execution_count": 8,
   "metadata": {},
   "outputs": [],
   "source": [
    "def correct_dataframe(string):\n",
    "    new_list = str(string).split(\", \")   # пытаемся разбить данные\n",
    "    \n",
    "    if string.isdigit() and int(string) > 10:\n",
    "        new_value = \"10\"\n",
    "        \n",
    "    elif string == '0':\n",
    "        new_value = '1'\n",
    "    \n",
    "    elif min([i.isdigit() for i in new_list]) != 0:\n",
    "        if [int(i) <= 10 for i in new_list]:\n",
    "            new_list = [int(i) for i in new_list]\n",
    "            new_value = round(np.mean(new_list))\n",
    "            new_value = str(new_value)\n",
    "        \n",
    "    else:\n",
    "        new_value = string    # оставляем без изменений\n",
    "    \n",
    "    return new_value"
   ]
  },
  {
   "cell_type": "code",
   "execution_count": 9,
   "metadata": {},
   "outputs": [
    {
     "data": {
      "text/plain": [
       "array(['5', '1', '8', '2', '3', '9', '10', '7', '4', '6', '***** ** ***',\n",
       "       '3 - дер.Ширяево Волоколамского района, 9 - в Москве',\n",
       "       'Чем даль ше,тем лучше.Спасибо за ваш труд.Оценка 10 !',\n",
       "       'ОЦЕНКА-3/НЕВАЖНО/', 'Отвратительно',\n",
       "       'Я ценой услуг не удовлетворен', 'Пока не понял', 'Hi',\n",
       "       '4. Тульская область Заокский район. Романовские дачи связи почти нет',\n",
       "       'Немагу дать атценку денги незашто снимаеть скоро выклучаю', '30',\n",
       "       'Очень  хорошо. Обслуживания  я довольно. Спасибо вам.555', '?',\n",
       "       'Поохое',\n",
       "       'Когда в Москве-10 а когда в калужской области в деревне Бели-1',\n",
       "       'Нет', 'Да', 'Ужасно',\n",
       "       '3 тройка, связь отвратительная, жалко платить за такой тарив',\n",
       "       'Чдтчдтччдтччч', '44515540706', 'Без з',\n",
       "       'Я в Смол. Области живу сейчас, не пользуюсь телефоном совсем'],\n",
       "      dtype=object)"
      ]
     },
     "execution_count": 9,
     "metadata": {},
     "output_type": "execute_result"
    }
   ],
   "source": [
    "values = list(df.Q1.copy())\n",
    "new_values = [correct_dataframe(value) for value in values]\n",
    "df.Q1 = new_values\n",
    "df.Q1.unique()"
   ]
  },
  {
   "cell_type": "markdown",
   "metadata": {},
   "source": [
    "Проведём ручную коррекцию некоторых значений"
   ]
  },
  {
   "cell_type": "code",
   "execution_count": 10,
   "metadata": {},
   "outputs": [],
   "source": [
    "df.loc[df.Q1 == \"3 - дер.Ширяево Волоколамского района, 9 - в Москве\", 'Q1'] = '6'\n",
    "df.loc[df.Q1 == 'Чем даль ше,тем лучше.Спасибо за ваш труд.Оценка 10 !', \"Q1\"] = '10'\n",
    "df.loc[df.Q1 == 'ОЦЕНКА-3/НЕВАЖНО/', 'Q1'] = \"3\"\n",
    "df.loc[df.Q1 == 'Отвратительно', \"Q1\"] = \"1\"\n",
    "df.loc[df.Q1 == '4. Тульская область Заокский район. Романовские дачи связи почти нет', 'Q1'] = \"4\"\n",
    "df.loc[df.Q1 == 'Очень  хорошо. Обслуживания  я довольно. Спасибо вам.555', 'Q1'] = \"8\"\n",
    "df.loc[df.Q1 == 'Поохое', 'Q1'] = \"3\"\n",
    "df.loc[df.Q1 == 'Когда в Москве-10 а когда в калужской области в деревне Бели-1', 'Q1'] = \"5\"\n",
    "df.loc[df.Q1 == 'Ужасно', 'Q1'] = '1'\n",
    "df.loc[df.Q1 == '3 тройка, связь отвратительная, жалко платить за такой тарив', 'Q1'] = \"3\""
   ]
  },
  {
   "cell_type": "code",
   "execution_count": 11,
   "metadata": {},
   "outputs": [
    {
     "data": {
      "text/plain": [
       "array(['5', '1', '8', '2', '3', '9', '10', '7', '4', '6', '***** ** ***',\n",
       "       'Я ценой услуг не удовлетворен', 'Пока не понял', 'Hi',\n",
       "       'Немагу дать атценку денги незашто снимаеть скоро выклучаю', '30',\n",
       "       '?', 'Нет', 'Да', 'Чдтчдтччдтччч', '44515540706', 'Без з',\n",
       "       'Я в Смол. Области живу сейчас, не пользуюсь телефоном совсем'],\n",
       "      dtype=object)"
      ]
     },
     "execution_count": 11,
     "metadata": {},
     "output_type": "execute_result"
    }
   ],
   "source": [
    "df.Q1.unique()"
   ]
  },
  {
   "cell_type": "code",
   "execution_count": 12,
   "metadata": {},
   "outputs": [
    {
     "data": {
      "text/plain": [
       "array(['5', '1', '8', '2', '3', '9', '10', '7', '4', '6', nan],\n",
       "      dtype=object)"
      ]
     },
     "execution_count": 12,
     "metadata": {},
     "output_type": "execute_result"
    }
   ],
   "source": [
    "values = [str(i) for i in range(1, 11)]\n",
    "raw_data = df.Q1.copy()\n",
    "new_data = []\n",
    "for element in raw_data:\n",
    "    if element not in values:\n",
    "        element = np.NaN\n",
    "    new_data.append(element)\n",
    "df.Q1 = new_data\n",
    "df.Q1.unique()"
   ]
  },
  {
   "cell_type": "markdown",
   "metadata": {},
   "source": [
    "Напоследок, избавимся от невалидных данных:"
   ]
  },
  {
   "cell_type": "code",
   "execution_count": 13,
   "metadata": {},
   "outputs": [],
   "source": [
    "df.dropna(axis=0, subset=[\"Q1\"], inplace=True)"
   ]
  },
  {
   "cell_type": "markdown",
   "metadata": {},
   "source": [
    "Данные почищенны, теперь давайте посмотрим распределение данных:"
   ]
  },
  {
   "cell_type": "code",
   "execution_count": 14,
   "metadata": {},
   "outputs": [
    {
     "data": {
      "text/plain": [
       "10    851\n",
       "1     544\n",
       "3     328\n",
       "8     293\n",
       "9     238\n",
       "5     236\n",
       "7     200\n",
       "2     171\n",
       "4     127\n",
       "6     107\n",
       "Name: Q1, dtype: int64"
      ]
     },
     "execution_count": 14,
     "metadata": {},
     "output_type": "execute_result"
    }
   ],
   "source": [
    "df.Q1.value_counts()"
   ]
  },
  {
   "cell_type": "code",
   "execution_count": 15,
   "metadata": {},
   "outputs": [
    {
     "data": {
      "image/png": "[encoded data removed]",
      "text/plain": [
       "<Figure size 576x576 with 1 Axes>"
      ]
     },
     "metadata": {
      "needs_background": "light"
     },
     "output_type": "display_data"
    }
   ],
   "source": [
    "df.Q1 = df.Q1.astype(int)\n",
    "\n",
    "plt.figure(figsize=(8, 8))\n",
    "plt.title(\"Оценка качества связи по результатам опроса абонентов\", fontsize=18)\n",
    "sns.histplot(data=df, x=df.Q1, bins=10, discrete=True)\n",
    "plt.xticks(range(1, 11))\n",
    "plt.xlabel(\"Общая оценка абонентами качества услуг\", fontsize=14)\n",
    "plt.show()"
   ]
  },
  {
   "cell_type": "markdown",
   "metadata": {},
   "source": [
    "#### Посмотрим технические показатели, в зависимости от оценки абонента:"
   ]
  },
  {
   "cell_type": "markdown",
   "metadata": {},
   "source": [
    "Скорость выгрузки:"
   ]
  },
  {
   "cell_type": "code",
   "execution_count": 16,
   "metadata": {},
   "outputs": [
    {
     "data": {
      "text/html": [
       "<div>\n",
       "<style scoped>\n",
       "    .dataframe tbody tr th:only-of-type {\n",
       "        vertical-align: middle;\n",
       "    }\n",
       "\n",
       "    .dataframe tbody tr th {\n",
       "        vertical-align: top;\n",
       "    }\n",
       "\n",
       "    .dataframe thead th {\n",
       "        text-align: right;\n",
       "    }\n",
       "</style>\n",
       "<table border=\"1\" class=\"dataframe\">\n",
       "  <thead>\n",
       "    <tr style=\"text-align: right;\">\n",
       "      <th></th>\n",
       "      <th>count</th>\n",
       "      <th>mean</th>\n",
       "      <th>std</th>\n",
       "      <th>min</th>\n",
       "      <th>25%</th>\n",
       "      <th>50%</th>\n",
       "      <th>75%</th>\n",
       "      <th>max</th>\n",
       "    </tr>\n",
       "    <tr>\n",
       "      <th>Q1</th>\n",
       "      <th></th>\n",
       "      <th></th>\n",
       "      <th></th>\n",
       "      <th></th>\n",
       "      <th></th>\n",
       "      <th></th>\n",
       "      <th></th>\n",
       "      <th></th>\n",
       "    </tr>\n",
       "  </thead>\n",
       "  <tbody>\n",
       "    <tr>\n",
       "      <th>1</th>\n",
       "      <td>544.0</td>\n",
       "      <td>145.875901</td>\n",
       "      <td>150.026617</td>\n",
       "      <td>6.11</td>\n",
       "      <td>60.4575</td>\n",
       "      <td>107.455</td>\n",
       "      <td>178.4000</td>\n",
       "      <td>1663.61</td>\n",
       "    </tr>\n",
       "    <tr>\n",
       "      <th>2</th>\n",
       "      <td>171.0</td>\n",
       "      <td>142.177427</td>\n",
       "      <td>118.284335</td>\n",
       "      <td>13.75</td>\n",
       "      <td>64.3750</td>\n",
       "      <td>107.110</td>\n",
       "      <td>185.6500</td>\n",
       "      <td>825.62</td>\n",
       "    </tr>\n",
       "    <tr>\n",
       "      <th>3</th>\n",
       "      <td>328.0</td>\n",
       "      <td>165.747561</td>\n",
       "      <td>154.316652</td>\n",
       "      <td>11.03</td>\n",
       "      <td>67.5725</td>\n",
       "      <td>123.065</td>\n",
       "      <td>209.4150</td>\n",
       "      <td>1250.42</td>\n",
       "    </tr>\n",
       "    <tr>\n",
       "      <th>4</th>\n",
       "      <td>127.0</td>\n",
       "      <td>179.503465</td>\n",
       "      <td>221.706674</td>\n",
       "      <td>8.30</td>\n",
       "      <td>69.8150</td>\n",
       "      <td>109.700</td>\n",
       "      <td>213.0500</td>\n",
       "      <td>1612.84</td>\n",
       "    </tr>\n",
       "    <tr>\n",
       "      <th>5</th>\n",
       "      <td>236.0</td>\n",
       "      <td>160.630805</td>\n",
       "      <td>127.920071</td>\n",
       "      <td>22.85</td>\n",
       "      <td>76.1700</td>\n",
       "      <td>122.360</td>\n",
       "      <td>212.7800</td>\n",
       "      <td>908.11</td>\n",
       "    </tr>\n",
       "    <tr>\n",
       "      <th>6</th>\n",
       "      <td>107.0</td>\n",
       "      <td>182.046729</td>\n",
       "      <td>151.785507</td>\n",
       "      <td>34.71</td>\n",
       "      <td>78.1100</td>\n",
       "      <td>149.040</td>\n",
       "      <td>234.0400</td>\n",
       "      <td>1087.54</td>\n",
       "    </tr>\n",
       "    <tr>\n",
       "      <th>7</th>\n",
       "      <td>200.0</td>\n",
       "      <td>172.334400</td>\n",
       "      <td>243.620299</td>\n",
       "      <td>13.97</td>\n",
       "      <td>80.1325</td>\n",
       "      <td>116.605</td>\n",
       "      <td>202.7475</td>\n",
       "      <td>3116.72</td>\n",
       "    </tr>\n",
       "    <tr>\n",
       "      <th>8</th>\n",
       "      <td>293.0</td>\n",
       "      <td>190.202594</td>\n",
       "      <td>281.016053</td>\n",
       "      <td>14.82</td>\n",
       "      <td>73.4900</td>\n",
       "      <td>125.070</td>\n",
       "      <td>220.7000</td>\n",
       "      <td>3695.47</td>\n",
       "    </tr>\n",
       "    <tr>\n",
       "      <th>9</th>\n",
       "      <td>238.0</td>\n",
       "      <td>189.935714</td>\n",
       "      <td>263.456604</td>\n",
       "      <td>12.27</td>\n",
       "      <td>70.2775</td>\n",
       "      <td>126.910</td>\n",
       "      <td>233.5550</td>\n",
       "      <td>3283.33</td>\n",
       "    </tr>\n",
       "    <tr>\n",
       "      <th>10</th>\n",
       "      <td>851.0</td>\n",
       "      <td>181.827203</td>\n",
       "      <td>223.126867</td>\n",
       "      <td>6.45</td>\n",
       "      <td>73.9550</td>\n",
       "      <td>124.120</td>\n",
       "      <td>218.8050</td>\n",
       "      <td>4141.85</td>\n",
       "    </tr>\n",
       "  </tbody>\n",
       "</table>\n",
       "</div>"
      ],
      "text/plain": [
       "    count        mean         std    min      25%      50%       75%      max\n",
       "Q1                                                                           \n",
       "1   544.0  145.875901  150.026617   6.11  60.4575  107.455  178.4000  1663.61\n",
       "2   171.0  142.177427  118.284335  13.75  64.3750  107.110  185.6500   825.62\n",
       "3   328.0  165.747561  154.316652  11.03  67.5725  123.065  209.4150  1250.42\n",
       "4   127.0  179.503465  221.706674   8.30  69.8150  109.700  213.0500  1612.84\n",
       "5   236.0  160.630805  127.920071  22.85  76.1700  122.360  212.7800   908.11\n",
       "6   107.0  182.046729  151.785507  34.71  78.1100  149.040  234.0400  1087.54\n",
       "7   200.0  172.334400  243.620299  13.97  80.1325  116.605  202.7475  3116.72\n",
       "8   293.0  190.202594  281.016053  14.82  73.4900  125.070  220.7000  3695.47\n",
       "9   238.0  189.935714  263.456604  12.27  70.2775  126.910  233.5550  3283.33\n",
       "10  851.0  181.827203  223.126867   6.45  73.9550  124.120  218.8050  4141.85"
      ]
     },
     "execution_count": 16,
     "metadata": {},
     "output_type": "execute_result"
    }
   ],
   "source": [
    "df.groupby(\"Q1\")[\"Uplink Throughput(Kbps)\"].describe()"
   ]
  },
  {
   "cell_type": "markdown",
   "metadata": {},
   "source": [
    "С ростом оценки абонента, средняя и медианная скорости выгрузки также возрастают."
   ]
  },
  {
   "cell_type": "markdown",
   "metadata": {},
   "source": [
    "Скорость загрузки:"
   ]
  },
  {
   "cell_type": "code",
   "execution_count": 17,
   "metadata": {},
   "outputs": [
    {
     "data": {
      "text/html": [
       "<div>\n",
       "<style scoped>\n",
       "    .dataframe tbody tr th:only-of-type {\n",
       "        vertical-align: middle;\n",
       "    }\n",
       "\n",
       "    .dataframe tbody tr th {\n",
       "        vertical-align: top;\n",
       "    }\n",
       "\n",
       "    .dataframe thead th {\n",
       "        text-align: right;\n",
       "    }\n",
       "</style>\n",
       "<table border=\"1\" class=\"dataframe\">\n",
       "  <thead>\n",
       "    <tr style=\"text-align: right;\">\n",
       "      <th></th>\n",
       "      <th>count</th>\n",
       "      <th>mean</th>\n",
       "      <th>std</th>\n",
       "      <th>min</th>\n",
       "      <th>25%</th>\n",
       "      <th>50%</th>\n",
       "      <th>75%</th>\n",
       "      <th>max</th>\n",
       "    </tr>\n",
       "    <tr>\n",
       "      <th>Q1</th>\n",
       "      <th></th>\n",
       "      <th></th>\n",
       "      <th></th>\n",
       "      <th></th>\n",
       "      <th></th>\n",
       "      <th></th>\n",
       "      <th></th>\n",
       "      <th></th>\n",
       "    </tr>\n",
       "  </thead>\n",
       "  <tbody>\n",
       "    <tr>\n",
       "      <th>1</th>\n",
       "      <td>544.0</td>\n",
       "      <td>2021.681563</td>\n",
       "      <td>2929.906679</td>\n",
       "      <td>13.26</td>\n",
       "      <td>516.7925</td>\n",
       "      <td>1156.110</td>\n",
       "      <td>2501.6950</td>\n",
       "      <td>39817.64</td>\n",
       "    </tr>\n",
       "    <tr>\n",
       "      <th>2</th>\n",
       "      <td>171.0</td>\n",
       "      <td>1776.337778</td>\n",
       "      <td>3090.687795</td>\n",
       "      <td>65.56</td>\n",
       "      <td>449.9350</td>\n",
       "      <td>1092.030</td>\n",
       "      <td>2315.5150</td>\n",
       "      <td>36446.00</td>\n",
       "    </tr>\n",
       "    <tr>\n",
       "      <th>3</th>\n",
       "      <td>328.0</td>\n",
       "      <td>1765.123811</td>\n",
       "      <td>1851.449275</td>\n",
       "      <td>14.23</td>\n",
       "      <td>558.7275</td>\n",
       "      <td>1140.490</td>\n",
       "      <td>2317.0875</td>\n",
       "      <td>12471.64</td>\n",
       "    </tr>\n",
       "    <tr>\n",
       "      <th>4</th>\n",
       "      <td>127.0</td>\n",
       "      <td>2209.035433</td>\n",
       "      <td>2461.277901</td>\n",
       "      <td>129.68</td>\n",
       "      <td>534.7250</td>\n",
       "      <td>1481.070</td>\n",
       "      <td>2713.7050</td>\n",
       "      <td>13188.11</td>\n",
       "    </tr>\n",
       "    <tr>\n",
       "      <th>5</th>\n",
       "      <td>236.0</td>\n",
       "      <td>2101.227119</td>\n",
       "      <td>2491.403637</td>\n",
       "      <td>102.05</td>\n",
       "      <td>650.8825</td>\n",
       "      <td>1273.570</td>\n",
       "      <td>2654.7725</td>\n",
       "      <td>19112.75</td>\n",
       "    </tr>\n",
       "    <tr>\n",
       "      <th>6</th>\n",
       "      <td>107.0</td>\n",
       "      <td>2582.478224</td>\n",
       "      <td>2889.122818</td>\n",
       "      <td>124.01</td>\n",
       "      <td>883.3400</td>\n",
       "      <td>1831.330</td>\n",
       "      <td>3164.2450</td>\n",
       "      <td>18288.32</td>\n",
       "    </tr>\n",
       "    <tr>\n",
       "      <th>7</th>\n",
       "      <td>200.0</td>\n",
       "      <td>2137.627300</td>\n",
       "      <td>2100.836966</td>\n",
       "      <td>125.97</td>\n",
       "      <td>662.2800</td>\n",
       "      <td>1410.815</td>\n",
       "      <td>2951.9225</td>\n",
       "      <td>13636.42</td>\n",
       "    </tr>\n",
       "    <tr>\n",
       "      <th>8</th>\n",
       "      <td>293.0</td>\n",
       "      <td>2258.164300</td>\n",
       "      <td>2191.588231</td>\n",
       "      <td>62.98</td>\n",
       "      <td>726.9900</td>\n",
       "      <td>1452.710</td>\n",
       "      <td>2964.3400</td>\n",
       "      <td>12084.75</td>\n",
       "    </tr>\n",
       "    <tr>\n",
       "      <th>9</th>\n",
       "      <td>238.0</td>\n",
       "      <td>2684.549244</td>\n",
       "      <td>3418.498155</td>\n",
       "      <td>28.33</td>\n",
       "      <td>777.8225</td>\n",
       "      <td>1653.080</td>\n",
       "      <td>2996.8500</td>\n",
       "      <td>30820.00</td>\n",
       "    </tr>\n",
       "    <tr>\n",
       "      <th>10</th>\n",
       "      <td>851.0</td>\n",
       "      <td>2457.130212</td>\n",
       "      <td>2515.540937</td>\n",
       "      <td>52.07</td>\n",
       "      <td>745.5400</td>\n",
       "      <td>1635.820</td>\n",
       "      <td>3251.5800</td>\n",
       "      <td>20503.00</td>\n",
       "    </tr>\n",
       "  </tbody>\n",
       "</table>\n",
       "</div>"
      ],
      "text/plain": [
       "    count         mean          std     min       25%       50%        75%  \\\n",
       "Q1                                                                           \n",
       "1   544.0  2021.681563  2929.906679   13.26  516.7925  1156.110  2501.6950   \n",
       "2   171.0  1776.337778  3090.687795   65.56  449.9350  1092.030  2315.5150   \n",
       "3   328.0  1765.123811  1851.449275   14.23  558.7275  1140.490  2317.0875   \n",
       "4   127.0  2209.035433  2461.277901  129.68  534.7250  1481.070  2713.7050   \n",
       "5   236.0  2101.227119  2491.403637  102.05  650.8825  1273.570  2654.7725   \n",
       "6   107.0  2582.478224  2889.122818  124.01  883.3400  1831.330  3164.2450   \n",
       "7   200.0  2137.627300  2100.836966  125.97  662.2800  1410.815  2951.9225   \n",
       "8   293.0  2258.164300  2191.588231   62.98  726.9900  1452.710  2964.3400   \n",
       "9   238.0  2684.549244  3418.498155   28.33  777.8225  1653.080  2996.8500   \n",
       "10  851.0  2457.130212  2515.540937   52.07  745.5400  1635.820  3251.5800   \n",
       "\n",
       "         max  \n",
       "Q1            \n",
       "1   39817.64  \n",
       "2   36446.00  \n",
       "3   12471.64  \n",
       "4   13188.11  \n",
       "5   19112.75  \n",
       "6   18288.32  \n",
       "7   13636.42  \n",
       "8   12084.75  \n",
       "9   30820.00  \n",
       "10  20503.00  "
      ]
     },
     "execution_count": 17,
     "metadata": {},
     "output_type": "execute_result"
    }
   ],
   "source": [
    "df.groupby(\"Q1\")[\"Downlink Throughput(Kbps)\"].describe()"
   ]
  },
  {
   "cell_type": "markdown",
   "metadata": {},
   "source": [
    "С ростом оценки средняя скорость загрузки не претерпевает однозначных изменений, а медианная в целом возрастает. Данный показатель качества связи не имеет большого влияния на оценку."
   ]
  },
  {
   "cell_type": "markdown",
   "metadata": {},
   "source": [
    "Процент потери пакетов данных:"
   ]
  },
  {
   "cell_type": "code",
   "execution_count": 18,
   "metadata": {},
   "outputs": [
    {
     "data": {
      "text/html": [
       "<div>\n",
       "<style scoped>\n",
       "    .dataframe tbody tr th:only-of-type {\n",
       "        vertical-align: middle;\n",
       "    }\n",
       "\n",
       "    .dataframe tbody tr th {\n",
       "        vertical-align: top;\n",
       "    }\n",
       "\n",
       "    .dataframe thead th {\n",
       "        text-align: right;\n",
       "    }\n",
       "</style>\n",
       "<table border=\"1\" class=\"dataframe\">\n",
       "  <thead>\n",
       "    <tr style=\"text-align: right;\">\n",
       "      <th></th>\n",
       "      <th>count</th>\n",
       "      <th>mean</th>\n",
       "      <th>std</th>\n",
       "      <th>min</th>\n",
       "      <th>25%</th>\n",
       "      <th>50%</th>\n",
       "      <th>75%</th>\n",
       "      <th>max</th>\n",
       "    </tr>\n",
       "    <tr>\n",
       "      <th>Q1</th>\n",
       "      <th></th>\n",
       "      <th></th>\n",
       "      <th></th>\n",
       "      <th></th>\n",
       "      <th></th>\n",
       "      <th></th>\n",
       "      <th></th>\n",
       "      <th></th>\n",
       "    </tr>\n",
       "  </thead>\n",
       "  <tbody>\n",
       "    <tr>\n",
       "      <th>1</th>\n",
       "      <td>544.0</td>\n",
       "      <td>2.178750</td>\n",
       "      <td>2.981805</td>\n",
       "      <td>0.11</td>\n",
       "      <td>0.8375</td>\n",
       "      <td>1.425</td>\n",
       "      <td>2.4700</td>\n",
       "      <td>31.20</td>\n",
       "    </tr>\n",
       "    <tr>\n",
       "      <th>2</th>\n",
       "      <td>171.0</td>\n",
       "      <td>2.125789</td>\n",
       "      <td>2.136466</td>\n",
       "      <td>0.06</td>\n",
       "      <td>0.8400</td>\n",
       "      <td>1.640</td>\n",
       "      <td>2.6050</td>\n",
       "      <td>17.25</td>\n",
       "    </tr>\n",
       "    <tr>\n",
       "      <th>3</th>\n",
       "      <td>328.0</td>\n",
       "      <td>1.929146</td>\n",
       "      <td>1.783268</td>\n",
       "      <td>0.10</td>\n",
       "      <td>0.8375</td>\n",
       "      <td>1.460</td>\n",
       "      <td>2.4725</td>\n",
       "      <td>19.17</td>\n",
       "    </tr>\n",
       "    <tr>\n",
       "      <th>4</th>\n",
       "      <td>127.0</td>\n",
       "      <td>2.061496</td>\n",
       "      <td>2.730334</td>\n",
       "      <td>0.12</td>\n",
       "      <td>0.6850</td>\n",
       "      <td>1.310</td>\n",
       "      <td>2.0250</td>\n",
       "      <td>16.73</td>\n",
       "    </tr>\n",
       "    <tr>\n",
       "      <th>5</th>\n",
       "      <td>236.0</td>\n",
       "      <td>1.796737</td>\n",
       "      <td>1.697892</td>\n",
       "      <td>0.09</td>\n",
       "      <td>0.6650</td>\n",
       "      <td>1.285</td>\n",
       "      <td>2.2825</td>\n",
       "      <td>11.98</td>\n",
       "    </tr>\n",
       "    <tr>\n",
       "      <th>6</th>\n",
       "      <td>107.0</td>\n",
       "      <td>1.587196</td>\n",
       "      <td>1.221440</td>\n",
       "      <td>0.11</td>\n",
       "      <td>0.7100</td>\n",
       "      <td>1.160</td>\n",
       "      <td>2.2100</td>\n",
       "      <td>6.09</td>\n",
       "    </tr>\n",
       "    <tr>\n",
       "      <th>7</th>\n",
       "      <td>200.0</td>\n",
       "      <td>1.747100</td>\n",
       "      <td>1.472377</td>\n",
       "      <td>0.09</td>\n",
       "      <td>0.7675</td>\n",
       "      <td>1.450</td>\n",
       "      <td>2.2475</td>\n",
       "      <td>10.23</td>\n",
       "    </tr>\n",
       "    <tr>\n",
       "      <th>8</th>\n",
       "      <td>293.0</td>\n",
       "      <td>1.711195</td>\n",
       "      <td>1.640431</td>\n",
       "      <td>0.07</td>\n",
       "      <td>0.6800</td>\n",
       "      <td>1.210</td>\n",
       "      <td>2.0500</td>\n",
       "      <td>10.26</td>\n",
       "    </tr>\n",
       "    <tr>\n",
       "      <th>9</th>\n",
       "      <td>238.0</td>\n",
       "      <td>1.537185</td>\n",
       "      <td>1.634236</td>\n",
       "      <td>0.07</td>\n",
       "      <td>0.6100</td>\n",
       "      <td>1.090</td>\n",
       "      <td>1.8575</td>\n",
       "      <td>16.68</td>\n",
       "    </tr>\n",
       "    <tr>\n",
       "      <th>10</th>\n",
       "      <td>851.0</td>\n",
       "      <td>1.681046</td>\n",
       "      <td>1.861482</td>\n",
       "      <td>0.05</td>\n",
       "      <td>0.6700</td>\n",
       "      <td>1.220</td>\n",
       "      <td>2.0300</td>\n",
       "      <td>18.15</td>\n",
       "    </tr>\n",
       "  </tbody>\n",
       "</table>\n",
       "</div>"
      ],
      "text/plain": [
       "    count      mean       std   min     25%    50%     75%    max\n",
       "Q1                                                               \n",
       "1   544.0  2.178750  2.981805  0.11  0.8375  1.425  2.4700  31.20\n",
       "2   171.0  2.125789  2.136466  0.06  0.8400  1.640  2.6050  17.25\n",
       "3   328.0  1.929146  1.783268  0.10  0.8375  1.460  2.4725  19.17\n",
       "4   127.0  2.061496  2.730334  0.12  0.6850  1.310  2.0250  16.73\n",
       "5   236.0  1.796737  1.697892  0.09  0.6650  1.285  2.2825  11.98\n",
       "6   107.0  1.587196  1.221440  0.11  0.7100  1.160  2.2100   6.09\n",
       "7   200.0  1.747100  1.472377  0.09  0.7675  1.450  2.2475  10.23\n",
       "8   293.0  1.711195  1.640431  0.07  0.6800  1.210  2.0500  10.26\n",
       "9   238.0  1.537185  1.634236  0.07  0.6100  1.090  1.8575  16.68\n",
       "10  851.0  1.681046  1.861482  0.05  0.6700  1.220  2.0300  18.15"
      ]
     },
     "execution_count": 18,
     "metadata": {},
     "output_type": "execute_result"
    }
   ],
   "source": [
    "df.groupby(\"Q1\")[\"Downlink TCP Retransmission Rate(%)\"].describe()"
   ]
  },
  {
   "cell_type": "markdown",
   "metadata": {},
   "source": [
    "С ростом оценки % повторной отправки пакетов падает, повышая \"эффективный\" трафик."
   ]
  },
  {
   "cell_type": "markdown",
   "metadata": {},
   "source": [
    "Скорость потокового просмотра видео:"
   ]
  },
  {
   "cell_type": "code",
   "execution_count": 19,
   "metadata": {},
   "outputs": [
    {
     "data": {
      "text/html": [
       "<div>\n",
       "<style scoped>\n",
       "    .dataframe tbody tr th:only-of-type {\n",
       "        vertical-align: middle;\n",
       "    }\n",
       "\n",
       "    .dataframe tbody tr th {\n",
       "        vertical-align: top;\n",
       "    }\n",
       "\n",
       "    .dataframe thead th {\n",
       "        text-align: right;\n",
       "    }\n",
       "</style>\n",
       "<table border=\"1\" class=\"dataframe\">\n",
       "  <thead>\n",
       "    <tr style=\"text-align: right;\">\n",
       "      <th></th>\n",
       "      <th>count</th>\n",
       "      <th>mean</th>\n",
       "      <th>std</th>\n",
       "      <th>min</th>\n",
       "      <th>25%</th>\n",
       "      <th>50%</th>\n",
       "      <th>75%</th>\n",
       "      <th>max</th>\n",
       "    </tr>\n",
       "    <tr>\n",
       "      <th>Q1</th>\n",
       "      <th></th>\n",
       "      <th></th>\n",
       "      <th></th>\n",
       "      <th></th>\n",
       "      <th></th>\n",
       "      <th></th>\n",
       "      <th></th>\n",
       "      <th></th>\n",
       "    </tr>\n",
       "  </thead>\n",
       "  <tbody>\n",
       "    <tr>\n",
       "      <th>1</th>\n",
       "      <td>544.0</td>\n",
       "      <td>4883.543511</td>\n",
       "      <td>4915.053125</td>\n",
       "      <td>69.82</td>\n",
       "      <td>1715.1900</td>\n",
       "      <td>3614.130</td>\n",
       "      <td>6304.4950</td>\n",
       "      <td>58566.03</td>\n",
       "    </tr>\n",
       "    <tr>\n",
       "      <th>2</th>\n",
       "      <td>171.0</td>\n",
       "      <td>5819.666257</td>\n",
       "      <td>6001.933138</td>\n",
       "      <td>65.75</td>\n",
       "      <td>2145.9350</td>\n",
       "      <td>4193.800</td>\n",
       "      <td>7953.0950</td>\n",
       "      <td>45678.29</td>\n",
       "    </tr>\n",
       "    <tr>\n",
       "      <th>3</th>\n",
       "      <td>328.0</td>\n",
       "      <td>4694.604573</td>\n",
       "      <td>4313.988697</td>\n",
       "      <td>87.34</td>\n",
       "      <td>1797.0650</td>\n",
       "      <td>3710.500</td>\n",
       "      <td>6180.1950</td>\n",
       "      <td>36755.53</td>\n",
       "    </tr>\n",
       "    <tr>\n",
       "      <th>4</th>\n",
       "      <td>127.0</td>\n",
       "      <td>5058.923465</td>\n",
       "      <td>4512.251389</td>\n",
       "      <td>326.41</td>\n",
       "      <td>1984.7800</td>\n",
       "      <td>3737.550</td>\n",
       "      <td>6353.2400</td>\n",
       "      <td>21384.86</td>\n",
       "    </tr>\n",
       "    <tr>\n",
       "      <th>5</th>\n",
       "      <td>236.0</td>\n",
       "      <td>5802.380678</td>\n",
       "      <td>5919.528748</td>\n",
       "      <td>229.37</td>\n",
       "      <td>2075.3525</td>\n",
       "      <td>3857.495</td>\n",
       "      <td>7519.8500</td>\n",
       "      <td>37931.95</td>\n",
       "    </tr>\n",
       "    <tr>\n",
       "      <th>6</th>\n",
       "      <td>107.0</td>\n",
       "      <td>5881.250935</td>\n",
       "      <td>4352.476562</td>\n",
       "      <td>0.00</td>\n",
       "      <td>2800.0350</td>\n",
       "      <td>4872.090</td>\n",
       "      <td>7936.1900</td>\n",
       "      <td>23200.99</td>\n",
       "    </tr>\n",
       "    <tr>\n",
       "      <th>7</th>\n",
       "      <td>200.0</td>\n",
       "      <td>5985.788550</td>\n",
       "      <td>5289.555708</td>\n",
       "      <td>133.95</td>\n",
       "      <td>2593.6475</td>\n",
       "      <td>4420.135</td>\n",
       "      <td>7757.9350</td>\n",
       "      <td>40767.40</td>\n",
       "    </tr>\n",
       "    <tr>\n",
       "      <th>8</th>\n",
       "      <td>293.0</td>\n",
       "      <td>6174.560785</td>\n",
       "      <td>4657.330131</td>\n",
       "      <td>167.19</td>\n",
       "      <td>2812.5700</td>\n",
       "      <td>5049.760</td>\n",
       "      <td>8251.7400</td>\n",
       "      <td>29271.58</td>\n",
       "    </tr>\n",
       "    <tr>\n",
       "      <th>9</th>\n",
       "      <td>238.0</td>\n",
       "      <td>6579.093025</td>\n",
       "      <td>5946.419071</td>\n",
       "      <td>54.36</td>\n",
       "      <td>2597.6300</td>\n",
       "      <td>4974.810</td>\n",
       "      <td>8422.3275</td>\n",
       "      <td>46035.65</td>\n",
       "    </tr>\n",
       "    <tr>\n",
       "      <th>10</th>\n",
       "      <td>851.0</td>\n",
       "      <td>6231.910952</td>\n",
       "      <td>5114.438410</td>\n",
       "      <td>97.17</td>\n",
       "      <td>2826.6700</td>\n",
       "      <td>4919.740</td>\n",
       "      <td>8196.7200</td>\n",
       "      <td>40995.49</td>\n",
       "    </tr>\n",
       "  </tbody>\n",
       "</table>\n",
       "</div>"
      ],
      "text/plain": [
       "    count         mean          std     min        25%       50%        75%  \\\n",
       "Q1                                                                            \n",
       "1   544.0  4883.543511  4915.053125   69.82  1715.1900  3614.130  6304.4950   \n",
       "2   171.0  5819.666257  6001.933138   65.75  2145.9350  4193.800  7953.0950   \n",
       "3   328.0  4694.604573  4313.988697   87.34  1797.0650  3710.500  6180.1950   \n",
       "4   127.0  5058.923465  4512.251389  326.41  1984.7800  3737.550  6353.2400   \n",
       "5   236.0  5802.380678  5919.528748  229.37  2075.3525  3857.495  7519.8500   \n",
       "6   107.0  5881.250935  4352.476562    0.00  2800.0350  4872.090  7936.1900   \n",
       "7   200.0  5985.788550  5289.555708  133.95  2593.6475  4420.135  7757.9350   \n",
       "8   293.0  6174.560785  4657.330131  167.19  2812.5700  5049.760  8251.7400   \n",
       "9   238.0  6579.093025  5946.419071   54.36  2597.6300  4974.810  8422.3275   \n",
       "10  851.0  6231.910952  5114.438410   97.17  2826.6700  4919.740  8196.7200   \n",
       "\n",
       "         max  \n",
       "Q1            \n",
       "1   58566.03  \n",
       "2   45678.29  \n",
       "3   36755.53  \n",
       "4   21384.86  \n",
       "5   37931.95  \n",
       "6   23200.99  \n",
       "7   40767.40  \n",
       "8   29271.58  \n",
       "9   46035.65  \n",
       "10  40995.49  "
      ]
     },
     "execution_count": 19,
     "metadata": {},
     "output_type": "execute_result"
    }
   ],
   "source": [
    "df.groupby(\"Q1\")[\"Video Streaming Download Throughput(Kbps)\"].describe()"
   ]
  },
  {
   "cell_type": "markdown",
   "metadata": {},
   "source": [
    "Для большИх значений оценки характерна бОльшая средняя и медианная скорости потокового просмотра видео."
   ]
  },
  {
   "cell_type": "markdown",
   "metadata": {},
   "source": [
    "Скорость загрузки интернет-страниц:"
   ]
  },
  {
   "cell_type": "code",
   "execution_count": 20,
   "metadata": {},
   "outputs": [
    {
     "data": {
      "text/html": [
       "<div>\n",
       "<style scoped>\n",
       "    .dataframe tbody tr th:only-of-type {\n",
       "        vertical-align: middle;\n",
       "    }\n",
       "\n",
       "    .dataframe tbody tr th {\n",
       "        vertical-align: top;\n",
       "    }\n",
       "\n",
       "    .dataframe thead th {\n",
       "        text-align: right;\n",
       "    }\n",
       "</style>\n",
       "<table border=\"1\" class=\"dataframe\">\n",
       "  <thead>\n",
       "    <tr style=\"text-align: right;\">\n",
       "      <th></th>\n",
       "      <th>count</th>\n",
       "      <th>mean</th>\n",
       "      <th>std</th>\n",
       "      <th>min</th>\n",
       "      <th>25%</th>\n",
       "      <th>50%</th>\n",
       "      <th>75%</th>\n",
       "      <th>max</th>\n",
       "    </tr>\n",
       "    <tr>\n",
       "      <th>Q1</th>\n",
       "      <th></th>\n",
       "      <th></th>\n",
       "      <th></th>\n",
       "      <th></th>\n",
       "      <th></th>\n",
       "      <th></th>\n",
       "      <th></th>\n",
       "      <th></th>\n",
       "    </tr>\n",
       "  </thead>\n",
       "  <tbody>\n",
       "    <tr>\n",
       "      <th>1</th>\n",
       "      <td>544.0</td>\n",
       "      <td>1779.203327</td>\n",
       "      <td>2022.222993</td>\n",
       "      <td>55.25</td>\n",
       "      <td>778.5575</td>\n",
       "      <td>1458.935</td>\n",
       "      <td>2152.8025</td>\n",
       "      <td>35603.97</td>\n",
       "    </tr>\n",
       "    <tr>\n",
       "      <th>2</th>\n",
       "      <td>171.0</td>\n",
       "      <td>2217.803626</td>\n",
       "      <td>2539.929493</td>\n",
       "      <td>20.66</td>\n",
       "      <td>997.7750</td>\n",
       "      <td>1601.760</td>\n",
       "      <td>2581.8100</td>\n",
       "      <td>24115.95</td>\n",
       "    </tr>\n",
       "    <tr>\n",
       "      <th>3</th>\n",
       "      <td>328.0</td>\n",
       "      <td>1889.551250</td>\n",
       "      <td>2199.297627</td>\n",
       "      <td>53.70</td>\n",
       "      <td>842.7150</td>\n",
       "      <td>1513.760</td>\n",
       "      <td>2180.8350</td>\n",
       "      <td>29715.58</td>\n",
       "    </tr>\n",
       "    <tr>\n",
       "      <th>4</th>\n",
       "      <td>127.0</td>\n",
       "      <td>2020.102362</td>\n",
       "      <td>2008.153657</td>\n",
       "      <td>108.45</td>\n",
       "      <td>802.4100</td>\n",
       "      <td>1557.060</td>\n",
       "      <td>2621.4800</td>\n",
       "      <td>12944.98</td>\n",
       "    </tr>\n",
       "    <tr>\n",
       "      <th>5</th>\n",
       "      <td>236.0</td>\n",
       "      <td>2045.159449</td>\n",
       "      <td>2140.691884</td>\n",
       "      <td>0.00</td>\n",
       "      <td>1005.0625</td>\n",
       "      <td>1563.275</td>\n",
       "      <td>2521.4600</td>\n",
       "      <td>18256.25</td>\n",
       "    </tr>\n",
       "    <tr>\n",
       "      <th>6</th>\n",
       "      <td>107.0</td>\n",
       "      <td>2276.704486</td>\n",
       "      <td>2318.498176</td>\n",
       "      <td>0.00</td>\n",
       "      <td>1034.6850</td>\n",
       "      <td>1743.510</td>\n",
       "      <td>2725.2350</td>\n",
       "      <td>19622.23</td>\n",
       "    </tr>\n",
       "    <tr>\n",
       "      <th>7</th>\n",
       "      <td>200.0</td>\n",
       "      <td>2064.868600</td>\n",
       "      <td>1498.727490</td>\n",
       "      <td>205.44</td>\n",
       "      <td>1073.2925</td>\n",
       "      <td>1765.130</td>\n",
       "      <td>2588.6975</td>\n",
       "      <td>11403.07</td>\n",
       "    </tr>\n",
       "    <tr>\n",
       "      <th>8</th>\n",
       "      <td>293.0</td>\n",
       "      <td>2174.675700</td>\n",
       "      <td>2024.538649</td>\n",
       "      <td>104.65</td>\n",
       "      <td>1133.8300</td>\n",
       "      <td>1769.810</td>\n",
       "      <td>2649.0200</td>\n",
       "      <td>24468.31</td>\n",
       "    </tr>\n",
       "    <tr>\n",
       "      <th>9</th>\n",
       "      <td>238.0</td>\n",
       "      <td>2394.859832</td>\n",
       "      <td>2107.055412</td>\n",
       "      <td>74.72</td>\n",
       "      <td>1125.8700</td>\n",
       "      <td>1856.230</td>\n",
       "      <td>2962.3475</td>\n",
       "      <td>16227.85</td>\n",
       "    </tr>\n",
       "    <tr>\n",
       "      <th>10</th>\n",
       "      <td>851.0</td>\n",
       "      <td>2265.129988</td>\n",
       "      <td>1968.710500</td>\n",
       "      <td>0.00</td>\n",
       "      <td>1202.9550</td>\n",
       "      <td>1849.270</td>\n",
       "      <td>2652.3150</td>\n",
       "      <td>24082.80</td>\n",
       "    </tr>\n",
       "  </tbody>\n",
       "</table>\n",
       "</div>"
      ],
      "text/plain": [
       "    count         mean          std     min        25%       50%        75%  \\\n",
       "Q1                                                                            \n",
       "1   544.0  1779.203327  2022.222993   55.25   778.5575  1458.935  2152.8025   \n",
       "2   171.0  2217.803626  2539.929493   20.66   997.7750  1601.760  2581.8100   \n",
       "3   328.0  1889.551250  2199.297627   53.70   842.7150  1513.760  2180.8350   \n",
       "4   127.0  2020.102362  2008.153657  108.45   802.4100  1557.060  2621.4800   \n",
       "5   236.0  2045.159449  2140.691884    0.00  1005.0625  1563.275  2521.4600   \n",
       "6   107.0  2276.704486  2318.498176    0.00  1034.6850  1743.510  2725.2350   \n",
       "7   200.0  2064.868600  1498.727490  205.44  1073.2925  1765.130  2588.6975   \n",
       "8   293.0  2174.675700  2024.538649  104.65  1133.8300  1769.810  2649.0200   \n",
       "9   238.0  2394.859832  2107.055412   74.72  1125.8700  1856.230  2962.3475   \n",
       "10  851.0  2265.129988  1968.710500    0.00  1202.9550  1849.270  2652.3150   \n",
       "\n",
       "         max  \n",
       "Q1            \n",
       "1   35603.97  \n",
       "2   24115.95  \n",
       "3   29715.58  \n",
       "4   12944.98  \n",
       "5   18256.25  \n",
       "6   19622.23  \n",
       "7   11403.07  \n",
       "8   24468.31  \n",
       "9   16227.85  \n",
       "10  24082.80  "
      ]
     },
     "execution_count": 20,
     "metadata": {},
     "output_type": "execute_result"
    }
   ],
   "source": [
    "df.groupby(\"Q1\")[\"Web Page Download Throughput(Kbps)\"].describe()"
   ]
  },
  {
   "cell_type": "markdown",
   "metadata": {},
   "source": [
    "Не наблюдается чёткой зависимости оценки от средней скорости загрузки интернет-страниц. Медианные значения незначительно симбатно возрастают. В целом, данный показатель качества связи можно не считать важным."
   ]
  },
  {
   "cell_type": "markdown",
   "metadata": {},
   "source": [
    "Скорость обработки интернет-запроса в мс:"
   ]
  },
  {
   "cell_type": "code",
   "execution_count": 21,
   "metadata": {},
   "outputs": [
    {
     "data": {
      "text/html": [
       "<div>\n",
       "<style scoped>\n",
       "    .dataframe tbody tr th:only-of-type {\n",
       "        vertical-align: middle;\n",
       "    }\n",
       "\n",
       "    .dataframe tbody tr th {\n",
       "        vertical-align: top;\n",
       "    }\n",
       "\n",
       "    .dataframe thead th {\n",
       "        text-align: right;\n",
       "    }\n",
       "</style>\n",
       "<table border=\"1\" class=\"dataframe\">\n",
       "  <thead>\n",
       "    <tr style=\"text-align: right;\">\n",
       "      <th></th>\n",
       "      <th>count</th>\n",
       "      <th>mean</th>\n",
       "      <th>std</th>\n",
       "      <th>min</th>\n",
       "      <th>25%</th>\n",
       "      <th>50%</th>\n",
       "      <th>75%</th>\n",
       "      <th>max</th>\n",
       "    </tr>\n",
       "    <tr>\n",
       "      <th>Q1</th>\n",
       "      <th></th>\n",
       "      <th></th>\n",
       "      <th></th>\n",
       "      <th></th>\n",
       "      <th></th>\n",
       "      <th></th>\n",
       "      <th></th>\n",
       "      <th></th>\n",
       "    </tr>\n",
       "  </thead>\n",
       "  <tbody>\n",
       "    <tr>\n",
       "      <th>1</th>\n",
       "      <td>544.0</td>\n",
       "      <td>257.454044</td>\n",
       "      <td>393.621587</td>\n",
       "      <td>29.0</td>\n",
       "      <td>85.75</td>\n",
       "      <td>139.0</td>\n",
       "      <td>251.50</td>\n",
       "      <td>3471.0</td>\n",
       "    </tr>\n",
       "    <tr>\n",
       "      <th>2</th>\n",
       "      <td>171.0</td>\n",
       "      <td>197.596491</td>\n",
       "      <td>223.997021</td>\n",
       "      <td>35.0</td>\n",
       "      <td>70.50</td>\n",
       "      <td>105.0</td>\n",
       "      <td>225.50</td>\n",
       "      <td>1535.0</td>\n",
       "    </tr>\n",
       "    <tr>\n",
       "      <th>3</th>\n",
       "      <td>328.0</td>\n",
       "      <td>224.810976</td>\n",
       "      <td>259.569947</td>\n",
       "      <td>22.0</td>\n",
       "      <td>86.00</td>\n",
       "      <td>143.5</td>\n",
       "      <td>252.25</td>\n",
       "      <td>2178.0</td>\n",
       "    </tr>\n",
       "    <tr>\n",
       "      <th>4</th>\n",
       "      <td>127.0</td>\n",
       "      <td>180.992126</td>\n",
       "      <td>215.370205</td>\n",
       "      <td>35.0</td>\n",
       "      <td>75.50</td>\n",
       "      <td>112.0</td>\n",
       "      <td>197.00</td>\n",
       "      <td>1737.0</td>\n",
       "    </tr>\n",
       "    <tr>\n",
       "      <th>5</th>\n",
       "      <td>236.0</td>\n",
       "      <td>189.652542</td>\n",
       "      <td>233.115491</td>\n",
       "      <td>0.0</td>\n",
       "      <td>77.75</td>\n",
       "      <td>125.0</td>\n",
       "      <td>207.25</td>\n",
       "      <td>2128.0</td>\n",
       "    </tr>\n",
       "    <tr>\n",
       "      <th>6</th>\n",
       "      <td>107.0</td>\n",
       "      <td>194.467290</td>\n",
       "      <td>293.882190</td>\n",
       "      <td>0.0</td>\n",
       "      <td>70.00</td>\n",
       "      <td>113.0</td>\n",
       "      <td>209.00</td>\n",
       "      <td>2394.0</td>\n",
       "    </tr>\n",
       "    <tr>\n",
       "      <th>7</th>\n",
       "      <td>200.0</td>\n",
       "      <td>164.445000</td>\n",
       "      <td>195.159507</td>\n",
       "      <td>40.0</td>\n",
       "      <td>72.75</td>\n",
       "      <td>119.5</td>\n",
       "      <td>182.25</td>\n",
       "      <td>2178.0</td>\n",
       "    </tr>\n",
       "    <tr>\n",
       "      <th>8</th>\n",
       "      <td>293.0</td>\n",
       "      <td>169.703072</td>\n",
       "      <td>227.616967</td>\n",
       "      <td>36.0</td>\n",
       "      <td>75.00</td>\n",
       "      <td>108.0</td>\n",
       "      <td>174.00</td>\n",
       "      <td>2533.0</td>\n",
       "    </tr>\n",
       "    <tr>\n",
       "      <th>9</th>\n",
       "      <td>238.0</td>\n",
       "      <td>173.689076</td>\n",
       "      <td>252.914880</td>\n",
       "      <td>30.0</td>\n",
       "      <td>67.00</td>\n",
       "      <td>100.0</td>\n",
       "      <td>190.25</td>\n",
       "      <td>2295.0</td>\n",
       "    </tr>\n",
       "    <tr>\n",
       "      <th>10</th>\n",
       "      <td>851.0</td>\n",
       "      <td>165.507638</td>\n",
       "      <td>210.962943</td>\n",
       "      <td>0.0</td>\n",
       "      <td>70.00</td>\n",
       "      <td>106.0</td>\n",
       "      <td>175.50</td>\n",
       "      <td>2982.0</td>\n",
       "    </tr>\n",
       "  </tbody>\n",
       "</table>\n",
       "</div>"
      ],
      "text/plain": [
       "    count        mean         std   min    25%    50%     75%     max\n",
       "Q1                                                                   \n",
       "1   544.0  257.454044  393.621587  29.0  85.75  139.0  251.50  3471.0\n",
       "2   171.0  197.596491  223.997021  35.0  70.50  105.0  225.50  1535.0\n",
       "3   328.0  224.810976  259.569947  22.0  86.00  143.5  252.25  2178.0\n",
       "4   127.0  180.992126  215.370205  35.0  75.50  112.0  197.00  1737.0\n",
       "5   236.0  189.652542  233.115491   0.0  77.75  125.0  207.25  2128.0\n",
       "6   107.0  194.467290  293.882190   0.0  70.00  113.0  209.00  2394.0\n",
       "7   200.0  164.445000  195.159507  40.0  72.75  119.5  182.25  2178.0\n",
       "8   293.0  169.703072  227.616967  36.0  75.00  108.0  174.00  2533.0\n",
       "9   238.0  173.689076  252.914880  30.0  67.00  100.0  190.25  2295.0\n",
       "10  851.0  165.507638  210.962943   0.0  70.00  106.0  175.50  2982.0"
      ]
     },
     "execution_count": 21,
     "metadata": {},
     "output_type": "execute_result"
    }
   ],
   "source": [
    "df.groupby(\"Q1\")[\"Web Average TCP RTT(ms)\"].describe()"
   ]
  },
  {
   "cell_type": "markdown",
   "metadata": {},
   "source": [
    "Чем выше оценка, тем меньше среднее и медианное время обработки запроса"
   ]
  },
  {
   "cell_type": "markdown",
   "metadata": {},
   "source": [
    "Далее давайте посчитаем ответы на второй вопрос. Для этого целесообразно разбить абонентов на 4 группы: <br>\n",
    "1) Те, кто поставил оценки 1-3 (считающие связь плохой/bad) <br>\n",
    "2) Те, кто поставил оценки 4-6 (считающие связь посредственной/average) <br>\n",
    "3) Те, кто поставил оценки 7-8 (считающие в целом связь хорошей/good) <br>\n",
    "4) Те, кто поставил оценки 9-10 (считающие связь отличной/perfect). <br>\n",
    "Последние не участвовали в 2 опросе, поэтому подсчёты будут вестись для групп 1-3."
   ]
  },
  {
   "cell_type": "code",
   "execution_count": 22,
   "metadata": {},
   "outputs": [],
   "source": [
    "bad = df[df[\"Q1\"] <= 3]\n",
    "average = df[(df[\"Q1\"] >= 4) & (df[\"Q1\"] <= 6)]\n",
    "good = df[(df[\"Q1\"] == 7) | (df[\"Q1\"] == 8)]\n",
    "perfect = df[(df[\"Q1\"] == 9) | (df[\"Q1\"] == 10)]"
   ]
  },
  {
   "cell_type": "markdown",
   "metadata": {},
   "source": [
    "Рассмотрим подробнее группу абонентов, крайне негативно отозвавшихся о качестве услуг"
   ]
  },
  {
   "cell_type": "code",
   "execution_count": 23,
   "metadata": {},
   "outputs": [
    {
     "data": {
      "text/html": [
       "<div>\n",
       "<style scoped>\n",
       "    .dataframe tbody tr th:only-of-type {\n",
       "        vertical-align: middle;\n",
       "    }\n",
       "\n",
       "    .dataframe tbody tr th {\n",
       "        vertical-align: top;\n",
       "    }\n",
       "\n",
       "    .dataframe thead th {\n",
       "        text-align: right;\n",
       "    }\n",
       "</style>\n",
       "<table border=\"1\" class=\"dataframe\">\n",
       "  <thead>\n",
       "    <tr style=\"text-align: right;\">\n",
       "      <th></th>\n",
       "      <th>user_id</th>\n",
       "      <th>Q1</th>\n",
       "      <th>Q2</th>\n",
       "      <th>Total Traffic(MB)</th>\n",
       "      <th>Downlink Throughput(Kbps)</th>\n",
       "      <th>Uplink Throughput(Kbps)</th>\n",
       "      <th>Downlink TCP Retransmission Rate(%)</th>\n",
       "      <th>Video Streaming Download Throughput(Kbps)</th>\n",
       "      <th>Video Streaming xKB Start Delay(ms)</th>\n",
       "      <th>Web Page Download Throughput(Kbps)</th>\n",
       "      <th>Web Average TCP RTT(ms)</th>\n",
       "    </tr>\n",
       "  </thead>\n",
       "  <tbody>\n",
       "    <tr>\n",
       "      <th>2</th>\n",
       "      <td>3</td>\n",
       "      <td>1</td>\n",
       "      <td>4</td>\n",
       "      <td>261.11860</td>\n",
       "      <td>790.96</td>\n",
       "      <td>34.20</td>\n",
       "      <td>1.79</td>\n",
       "      <td>1079.60</td>\n",
       "      <td>6367</td>\n",
       "      <td>535.85</td>\n",
       "      <td>485</td>\n",
       "    </tr>\n",
       "    <tr>\n",
       "      <th>4</th>\n",
       "      <td>5</td>\n",
       "      <td>2</td>\n",
       "      <td>2, 3, 4</td>\n",
       "      <td>351.99208</td>\n",
       "      <td>731.61</td>\n",
       "      <td>223.54</td>\n",
       "      <td>1.15</td>\n",
       "      <td>4550.38</td>\n",
       "      <td>1767</td>\n",
       "      <td>2336.56</td>\n",
       "      <td>68</td>\n",
       "    </tr>\n",
       "    <tr>\n",
       "      <th>6</th>\n",
       "      <td>7</td>\n",
       "      <td>2</td>\n",
       "      <td>4, 5</td>\n",
       "      <td>448.88413</td>\n",
       "      <td>438.27</td>\n",
       "      <td>81.32</td>\n",
       "      <td>1.98</td>\n",
       "      <td>1699.64</td>\n",
       "      <td>4223</td>\n",
       "      <td>856.05</td>\n",
       "      <td>220</td>\n",
       "    </tr>\n",
       "    <tr>\n",
       "      <th>8</th>\n",
       "      <td>9</td>\n",
       "      <td>1</td>\n",
       "      <td>1, 3, 4</td>\n",
       "      <td>783.64464</td>\n",
       "      <td>1786.99</td>\n",
       "      <td>271.77</td>\n",
       "      <td>0.84</td>\n",
       "      <td>6802.42</td>\n",
       "      <td>1200</td>\n",
       "      <td>1837.02</td>\n",
       "      <td>132</td>\n",
       "    </tr>\n",
       "    <tr>\n",
       "      <th>9</th>\n",
       "      <td>10</td>\n",
       "      <td>3</td>\n",
       "      <td>1, 3, 4, 5</td>\n",
       "      <td>455.97369</td>\n",
       "      <td>610.43</td>\n",
       "      <td>81.86</td>\n",
       "      <td>4.10</td>\n",
       "      <td>1317.76</td>\n",
       "      <td>3350</td>\n",
       "      <td>1054.15</td>\n",
       "      <td>165</td>\n",
       "    </tr>\n",
       "    <tr>\n",
       "      <th>...</th>\n",
       "      <td>...</td>\n",
       "      <td>...</td>\n",
       "      <td>...</td>\n",
       "      <td>...</td>\n",
       "      <td>...</td>\n",
       "      <td>...</td>\n",
       "      <td>...</td>\n",
       "      <td>...</td>\n",
       "      <td>...</td>\n",
       "      <td>...</td>\n",
       "      <td>...</td>\n",
       "    </tr>\n",
       "    <tr>\n",
       "      <th>3099</th>\n",
       "      <td>3100</td>\n",
       "      <td>3</td>\n",
       "      <td>1, 2, 3, 4, 5</td>\n",
       "      <td>335.82509</td>\n",
       "      <td>457.80</td>\n",
       "      <td>154.72</td>\n",
       "      <td>1.27</td>\n",
       "      <td>843.43</td>\n",
       "      <td>3002</td>\n",
       "      <td>1317.24</td>\n",
       "      <td>273</td>\n",
       "    </tr>\n",
       "    <tr>\n",
       "      <th>3100</th>\n",
       "      <td>3101</td>\n",
       "      <td>2</td>\n",
       "      <td>1, 2, 4</td>\n",
       "      <td>248.99905</td>\n",
       "      <td>2347.42</td>\n",
       "      <td>309.08</td>\n",
       "      <td>1.64</td>\n",
       "      <td>5001.39</td>\n",
       "      <td>1394</td>\n",
       "      <td>1837.79</td>\n",
       "      <td>83</td>\n",
       "    </tr>\n",
       "    <tr>\n",
       "      <th>3104</th>\n",
       "      <td>3105</td>\n",
       "      <td>1</td>\n",
       "      <td>1, 3, 4</td>\n",
       "      <td>206.28181</td>\n",
       "      <td>105.24</td>\n",
       "      <td>65.84</td>\n",
       "      <td>3.86</td>\n",
       "      <td>349.04</td>\n",
       "      <td>2094</td>\n",
       "      <td>1035.69</td>\n",
       "      <td>267</td>\n",
       "    </tr>\n",
       "    <tr>\n",
       "      <th>3107</th>\n",
       "      <td>3108</td>\n",
       "      <td>3</td>\n",
       "      <td>1, 4, 5</td>\n",
       "      <td>519.96475</td>\n",
       "      <td>1045.70</td>\n",
       "      <td>44.61</td>\n",
       "      <td>0.47</td>\n",
       "      <td>4523.66</td>\n",
       "      <td>1468</td>\n",
       "      <td>1044.66</td>\n",
       "      <td>304</td>\n",
       "    </tr>\n",
       "    <tr>\n",
       "      <th>3108</th>\n",
       "      <td>3109</td>\n",
       "      <td>3</td>\n",
       "      <td>1, 3, 4, 5</td>\n",
       "      <td>171.52629</td>\n",
       "      <td>670.32</td>\n",
       "      <td>40.94</td>\n",
       "      <td>2.35</td>\n",
       "      <td>1711.54</td>\n",
       "      <td>2780</td>\n",
       "      <td>954.91</td>\n",
       "      <td>251</td>\n",
       "    </tr>\n",
       "  </tbody>\n",
       "</table>\n",
       "<p>665 rows × 11 columns</p>\n",
       "</div>"
      ],
      "text/plain": [
       "      user_id  Q1             Q2  Total Traffic(MB)  \\\n",
       "2           3   1              4          261.11860   \n",
       "4           5   2        2, 3, 4          351.99208   \n",
       "6           7   2           4, 5          448.88413   \n",
       "8           9   1        1, 3, 4          783.64464   \n",
       "9          10   3     1, 3, 4, 5          455.97369   \n",
       "...       ...  ..            ...                ...   \n",
       "3099     3100   3  1, 2, 3, 4, 5          335.82509   \n",
       "3100     3101   2        1, 2, 4          248.99905   \n",
       "3104     3105   1        1, 3, 4          206.28181   \n",
       "3107     3108   3        1, 4, 5          519.96475   \n",
       "3108     3109   3     1, 3, 4, 5          171.52629   \n",
       "\n",
       "      Downlink Throughput(Kbps)  Uplink Throughput(Kbps)  \\\n",
       "2                        790.96                    34.20   \n",
       "4                        731.61                   223.54   \n",
       "6                        438.27                    81.32   \n",
       "8                       1786.99                   271.77   \n",
       "9                        610.43                    81.86   \n",
       "...                         ...                      ...   \n",
       "3099                     457.80                   154.72   \n",
       "3100                    2347.42                   309.08   \n",
       "3104                     105.24                    65.84   \n",
       "3107                    1045.70                    44.61   \n",
       "3108                     670.32                    40.94   \n",
       "\n",
       "      Downlink TCP Retransmission Rate(%)  \\\n",
       "2                                    1.79   \n",
       "4                                    1.15   \n",
       "6                                    1.98   \n",
       "8                                    0.84   \n",
       "9                                    4.10   \n",
       "...                                   ...   \n",
       "3099                                 1.27   \n",
       "3100                                 1.64   \n",
       "3104                                 3.86   \n",
       "3107                                 0.47   \n",
       "3108                                 2.35   \n",
       "\n",
       "      Video Streaming Download Throughput(Kbps)  \\\n",
       "2                                       1079.60   \n",
       "4                                       4550.38   \n",
       "6                                       1699.64   \n",
       "8                                       6802.42   \n",
       "9                                       1317.76   \n",
       "...                                         ...   \n",
       "3099                                     843.43   \n",
       "3100                                    5001.39   \n",
       "3104                                     349.04   \n",
       "3107                                    4523.66   \n",
       "3108                                    1711.54   \n",
       "\n",
       "      Video Streaming xKB Start Delay(ms)  Web Page Download Throughput(Kbps)  \\\n",
       "2                                    6367                              535.85   \n",
       "4                                    1767                             2336.56   \n",
       "6                                    4223                              856.05   \n",
       "8                                    1200                             1837.02   \n",
       "9                                    3350                             1054.15   \n",
       "...                                   ...                                 ...   \n",
       "3099                                 3002                             1317.24   \n",
       "3100                                 1394                             1837.79   \n",
       "3104                                 2094                             1035.69   \n",
       "3107                                 1468                             1044.66   \n",
       "3108                                 2780                              954.91   \n",
       "\n",
       "      Web Average TCP RTT(ms)  \n",
       "2                         485  \n",
       "4                          68  \n",
       "6                         220  \n",
       "8                         132  \n",
       "9                         165  \n",
       "...                       ...  \n",
       "3099                      273  \n",
       "3100                       83  \n",
       "3104                      267  \n",
       "3107                      304  \n",
       "3108                      251  \n",
       "\n",
       "[665 rows x 11 columns]"
      ]
     },
     "execution_count": 23,
     "metadata": {},
     "output_type": "execute_result"
    }
   ],
   "source": [
    "bad.dropna()"
   ]
  },
  {
   "cell_type": "markdown",
   "metadata": {},
   "source": [
    "Всего на 2 вопрос ответили 665 абонентов"
   ]
  },
  {
   "cell_type": "markdown",
   "metadata": {},
   "source": [
    "Придётся немного скорректировать данные"
   ]
  },
  {
   "cell_type": "code",
   "execution_count": 24,
   "metadata": {},
   "outputs": [
    {
     "data": {
      "text/plain": [
       "array(['4', '2, 3, 4', nan, '4, 5', '1, 3, 4', '1, 3, 4, 5', '1, 3',\n",
       "       '1, 2', '1', '7', '1, 2, 3, 4, 5', '1, 4', '3', '3, 4, 5', '3, 4',\n",
       "       '1, 2, 5', '1, 5', '1, 2, 3, 4', '1, 2, 4', '1, 4, 5', '1, 2, 3',\n",
       "       '2, 4, 5', '3, 5', '1, 2, 3, 4, 5, 6', '0, 1, 7', '4, 7',\n",
       "       '1, 4, 7', '6', '0, 3', '2, 3', '1, 3, 4, 5, 7', '3, 7',\n",
       "       '1, 3, 4, 7', '3, 4, 5, 7', '2, 4', '1, 3, 5', '1, 2, 34',\n",
       "       '1, 2, 4, 5', '1, 3, 7', '2', '1, 2, 3, 4, 7', '3, 4, 7', '10',\n",
       "       '1, 2, 3, 5', '0', '1, 2, 3, 7'], dtype=object)"
      ]
     },
     "execution_count": 24,
     "metadata": {},
     "output_type": "execute_result"
    }
   ],
   "source": [
    "bad.Q2.unique()"
   ]
  },
  {
   "cell_type": "code",
   "execution_count": 25,
   "metadata": {},
   "outputs": [
    {
     "name": "stderr",
     "output_type": "stream",
     "text": [
      "C:\\ProgramData\\Anaconda3\\lib\\site-packages\\pandas\\core\\indexing.py:966: SettingWithCopyWarning: \n",
      "A value is trying to be set on a copy of a slice from a DataFrame.\n",
      "Try using .loc[row_indexer,col_indexer] = value instead\n",
      "\n",
      "See the caveats in the documentation: https://pandas.pydata.org/pandas-docs/stable/user_guide/indexing.html#returning-a-view-versus-a-copy\n",
      "  self.obj[item] = s\n"
     ]
    }
   ],
   "source": [
    "bad.loc[bad.Q2 == \"1, 2, 34\", \"Q2\"] = \"1, 2, 3, 4\"\n",
    "bad.loc[bad.Q2 == \"10\", \"Q2\"] = \"1\""
   ]
  },
  {
   "cell_type": "code",
   "execution_count": 26,
   "metadata": {},
   "outputs": [
    {
     "data": {
      "text/plain": [
       "['4', '2', '3', '4', '4', '5', '1', '3', '4', '1']"
      ]
     },
     "execution_count": 26,
     "metadata": {},
     "output_type": "execute_result"
    }
   ],
   "source": [
    "Q2_res_bad = []\n",
    "for element in list(bad.Q2.dropna()):\n",
    "    Q2_res_bad.extend(element.split(\", \"))\n",
    "Q2_res_bad[:10]"
   ]
  },
  {
   "cell_type": "code",
   "execution_count": 27,
   "metadata": {},
   "outputs": [],
   "source": [
    "from collections import Counter"
   ]
  },
  {
   "cell_type": "code",
   "execution_count": 28,
   "metadata": {},
   "outputs": [
    {
     "data": {
      "text/plain": [
       "Counter({'4': 346,\n",
       "         '2': 104,\n",
       "         '3': 373,\n",
       "         '5': 126,\n",
       "         '1': 368,\n",
       "         '7': 58,\n",
       "         '6': 3,\n",
       "         '0': 3})"
      ]
     },
     "execution_count": 28,
     "metadata": {},
     "output_type": "execute_result"
    }
   ],
   "source": [
    "Counter(Q2_res_bad)"
   ]
  },
  {
   "cell_type": "markdown",
   "metadata": {},
   "source": [
    "Итого, более половины пользователей группы **bad** пожаловались на обрывы при звонках, качество связи в зданиях и медленный мобильный интернет."
   ]
  },
  {
   "cell_type": "markdown",
   "metadata": {},
   "source": [
    "Проведём аналогичную процедуру для пользователей группы **average**."
   ]
  },
  {
   "cell_type": "code",
   "execution_count": 29,
   "metadata": {},
   "outputs": [
    {
     "data": {
      "text/html": [
       "<div>\n",
       "<style scoped>\n",
       "    .dataframe tbody tr th:only-of-type {\n",
       "        vertical-align: middle;\n",
       "    }\n",
       "\n",
       "    .dataframe tbody tr th {\n",
       "        vertical-align: top;\n",
       "    }\n",
       "\n",
       "    .dataframe thead th {\n",
       "        text-align: right;\n",
       "    }\n",
       "</style>\n",
       "<table border=\"1\" class=\"dataframe\">\n",
       "  <thead>\n",
       "    <tr style=\"text-align: right;\">\n",
       "      <th></th>\n",
       "      <th>user_id</th>\n",
       "      <th>Q1</th>\n",
       "      <th>Q2</th>\n",
       "      <th>Total Traffic(MB)</th>\n",
       "      <th>Downlink Throughput(Kbps)</th>\n",
       "      <th>Uplink Throughput(Kbps)</th>\n",
       "      <th>Downlink TCP Retransmission Rate(%)</th>\n",
       "      <th>Video Streaming Download Throughput(Kbps)</th>\n",
       "      <th>Video Streaming xKB Start Delay(ms)</th>\n",
       "      <th>Web Page Download Throughput(Kbps)</th>\n",
       "      <th>Web Average TCP RTT(ms)</th>\n",
       "    </tr>\n",
       "  </thead>\n",
       "  <tbody>\n",
       "    <tr>\n",
       "      <th>1</th>\n",
       "      <td>2</td>\n",
       "      <td>5</td>\n",
       "      <td>4</td>\n",
       "      <td>861.96324</td>\n",
       "      <td>3023.54</td>\n",
       "      <td>411.18</td>\n",
       "      <td>1.27</td>\n",
       "      <td>667.47</td>\n",
       "      <td>2080</td>\n",
       "      <td>255.36</td>\n",
       "      <td>425</td>\n",
       "    </tr>\n",
       "    <tr>\n",
       "      <th>34</th>\n",
       "      <td>35</td>\n",
       "      <td>4</td>\n",
       "      <td>1, 4</td>\n",
       "      <td>624.87826</td>\n",
       "      <td>9629.02</td>\n",
       "      <td>308.28</td>\n",
       "      <td>14.80</td>\n",
       "      <td>10669.25</td>\n",
       "      <td>2682</td>\n",
       "      <td>759.33</td>\n",
       "      <td>267</td>\n",
       "    </tr>\n",
       "    <tr>\n",
       "      <th>35</th>\n",
       "      <td>36</td>\n",
       "      <td>4</td>\n",
       "      <td>1, 3</td>\n",
       "      <td>168.30615</td>\n",
       "      <td>205.13</td>\n",
       "      <td>85.36</td>\n",
       "      <td>0.73</td>\n",
       "      <td>17208.51</td>\n",
       "      <td>932</td>\n",
       "      <td>3196.87</td>\n",
       "      <td>91</td>\n",
       "    </tr>\n",
       "    <tr>\n",
       "      <th>52</th>\n",
       "      <td>53</td>\n",
       "      <td>6</td>\n",
       "      <td>2, 3</td>\n",
       "      <td>168.11047</td>\n",
       "      <td>2031.20</td>\n",
       "      <td>164.31</td>\n",
       "      <td>0.71</td>\n",
       "      <td>5234.92</td>\n",
       "      <td>1838</td>\n",
       "      <td>1665.56</td>\n",
       "      <td>95</td>\n",
       "    </tr>\n",
       "    <tr>\n",
       "      <th>57</th>\n",
       "      <td>58</td>\n",
       "      <td>6</td>\n",
       "      <td>1, 2, 3, 4</td>\n",
       "      <td>358.35124</td>\n",
       "      <td>1626.41</td>\n",
       "      <td>297.80</td>\n",
       "      <td>5.38</td>\n",
       "      <td>6519.35</td>\n",
       "      <td>1460</td>\n",
       "      <td>1066.52</td>\n",
       "      <td>257</td>\n",
       "    </tr>\n",
       "    <tr>\n",
       "      <th>...</th>\n",
       "      <td>...</td>\n",
       "      <td>...</td>\n",
       "      <td>...</td>\n",
       "      <td>...</td>\n",
       "      <td>...</td>\n",
       "      <td>...</td>\n",
       "      <td>...</td>\n",
       "      <td>...</td>\n",
       "      <td>...</td>\n",
       "      <td>...</td>\n",
       "      <td>...</td>\n",
       "    </tr>\n",
       "    <tr>\n",
       "      <th>3063</th>\n",
       "      <td>3064</td>\n",
       "      <td>4</td>\n",
       "      <td>3, 4</td>\n",
       "      <td>385.61467</td>\n",
       "      <td>2560.58</td>\n",
       "      <td>217.35</td>\n",
       "      <td>0.90</td>\n",
       "      <td>10493.76</td>\n",
       "      <td>1220</td>\n",
       "      <td>5801.26</td>\n",
       "      <td>35</td>\n",
       "    </tr>\n",
       "    <tr>\n",
       "      <th>3066</th>\n",
       "      <td>3067</td>\n",
       "      <td>5</td>\n",
       "      <td>1, 3</td>\n",
       "      <td>136.63347</td>\n",
       "      <td>1272.06</td>\n",
       "      <td>140.17</td>\n",
       "      <td>3.16</td>\n",
       "      <td>2328.40</td>\n",
       "      <td>2647</td>\n",
       "      <td>1248.35</td>\n",
       "      <td>361</td>\n",
       "    </tr>\n",
       "    <tr>\n",
       "      <th>3076</th>\n",
       "      <td>3077</td>\n",
       "      <td>5</td>\n",
       "      <td>1, 4</td>\n",
       "      <td>144.43657</td>\n",
       "      <td>781.40</td>\n",
       "      <td>114.33</td>\n",
       "      <td>2.07</td>\n",
       "      <td>4721.98</td>\n",
       "      <td>1608</td>\n",
       "      <td>2530.44</td>\n",
       "      <td>118</td>\n",
       "    </tr>\n",
       "    <tr>\n",
       "      <th>3093</th>\n",
       "      <td>3094</td>\n",
       "      <td>6</td>\n",
       "      <td>1, 3</td>\n",
       "      <td>398.96519</td>\n",
       "      <td>6321.71</td>\n",
       "      <td>1087.54</td>\n",
       "      <td>0.92</td>\n",
       "      <td>15513.20</td>\n",
       "      <td>1068</td>\n",
       "      <td>2615.55</td>\n",
       "      <td>71</td>\n",
       "    </tr>\n",
       "    <tr>\n",
       "      <th>3110</th>\n",
       "      <td>3111</td>\n",
       "      <td>6</td>\n",
       "      <td>1, 3</td>\n",
       "      <td>827.74515</td>\n",
       "      <td>1841.90</td>\n",
       "      <td>373.53</td>\n",
       "      <td>1.21</td>\n",
       "      <td>5675.93</td>\n",
       "      <td>1905</td>\n",
       "      <td>2361.88</td>\n",
       "      <td>202</td>\n",
       "    </tr>\n",
       "  </tbody>\n",
       "</table>\n",
       "<p>321 rows × 11 columns</p>\n",
       "</div>"
      ],
      "text/plain": [
       "      user_id  Q1          Q2  Total Traffic(MB)  Downlink Throughput(Kbps)  \\\n",
       "1           2   5           4          861.96324                    3023.54   \n",
       "34         35   4        1, 4          624.87826                    9629.02   \n",
       "35         36   4        1, 3          168.30615                     205.13   \n",
       "52         53   6        2, 3          168.11047                    2031.20   \n",
       "57         58   6  1, 2, 3, 4          358.35124                    1626.41   \n",
       "...       ...  ..         ...                ...                        ...   \n",
       "3063     3064   4        3, 4          385.61467                    2560.58   \n",
       "3066     3067   5        1, 3          136.63347                    1272.06   \n",
       "3076     3077   5        1, 4          144.43657                     781.40   \n",
       "3093     3094   6        1, 3          398.96519                    6321.71   \n",
       "3110     3111   6        1, 3          827.74515                    1841.90   \n",
       "\n",
       "      Uplink Throughput(Kbps)  Downlink TCP Retransmission Rate(%)  \\\n",
       "1                      411.18                                 1.27   \n",
       "34                     308.28                                14.80   \n",
       "35                      85.36                                 0.73   \n",
       "52                     164.31                                 0.71   \n",
       "57                     297.80                                 5.38   \n",
       "...                       ...                                  ...   \n",
       "3063                   217.35                                 0.90   \n",
       "3066                   140.17                                 3.16   \n",
       "3076                   114.33                                 2.07   \n",
       "3093                  1087.54                                 0.92   \n",
       "3110                   373.53                                 1.21   \n",
       "\n",
       "      Video Streaming Download Throughput(Kbps)  \\\n",
       "1                                        667.47   \n",
       "34                                     10669.25   \n",
       "35                                     17208.51   \n",
       "52                                      5234.92   \n",
       "57                                      6519.35   \n",
       "...                                         ...   \n",
       "3063                                   10493.76   \n",
       "3066                                    2328.40   \n",
       "3076                                    4721.98   \n",
       "3093                                   15513.20   \n",
       "3110                                    5675.93   \n",
       "\n",
       "      Video Streaming xKB Start Delay(ms)  Web Page Download Throughput(Kbps)  \\\n",
       "1                                    2080                              255.36   \n",
       "34                                   2682                              759.33   \n",
       "35                                    932                             3196.87   \n",
       "52                                   1838                             1665.56   \n",
       "57                                   1460                             1066.52   \n",
       "...                                   ...                                 ...   \n",
       "3063                                 1220                             5801.26   \n",
       "3066                                 2647                             1248.35   \n",
       "3076                                 1608                             2530.44   \n",
       "3093                                 1068                             2615.55   \n",
       "3110                                 1905                             2361.88   \n",
       "\n",
       "      Web Average TCP RTT(ms)  \n",
       "1                         425  \n",
       "34                        267  \n",
       "35                         91  \n",
       "52                         95  \n",
       "57                        257  \n",
       "...                       ...  \n",
       "3063                       35  \n",
       "3066                      361  \n",
       "3076                      118  \n",
       "3093                       71  \n",
       "3110                      202  \n",
       "\n",
       "[321 rows x 11 columns]"
      ]
     },
     "execution_count": 29,
     "metadata": {},
     "output_type": "execute_result"
    }
   ],
   "source": [
    "average.dropna()"
   ]
  },
  {
   "cell_type": "markdown",
   "metadata": {},
   "source": [
    "На второй вопрос ответил 321 человек группы average."
   ]
  },
  {
   "cell_type": "code",
   "execution_count": 30,
   "metadata": {},
   "outputs": [
    {
     "data": {
      "text/plain": [
       "array([nan, '4', '1, 4', '1, 3', '2, 3', '1, 2, 3, 4', '3', '2, 3, 4, 5',\n",
       "       '1', '3, 4', '1, 3, 4', '3, 4, 5', '7', '1, 2, 3', '1, 2, 4',\n",
       "       '1, 2, 7', '2', '1, 4, 5', '4, 5', '1, 2, 5', '2, 3, 4',\n",
       "       '1, 2, 3, 5', '5', '1, 5', '1, 3, 4, 5', '3, 4, 7', '1, 2',\n",
       "       '1, 2, 4, 5', '6', '1, 2, 3, 4, 5', '3, 4, 5, 7', '3, 5', '2, 4',\n",
       "       '1, 3, 7'], dtype=object)"
      ]
     },
     "execution_count": 30,
     "metadata": {},
     "output_type": "execute_result"
    }
   ],
   "source": [
    "average.Q2.unique()"
   ]
  },
  {
   "cell_type": "code",
   "execution_count": 31,
   "metadata": {},
   "outputs": [
    {
     "data": {
      "text/plain": [
       "['4', '1', '4', '1', '3', '2', '3', '1', '2', '3']"
      ]
     },
     "execution_count": 31,
     "metadata": {},
     "output_type": "execute_result"
    }
   ],
   "source": [
    "Q2_res_average = []\n",
    "for element in list(average.Q2.dropna()):\n",
    "    Q2_res_average.extend(element.split(\", \"))\n",
    "Q2_res_average[:10]"
   ]
  },
  {
   "cell_type": "code",
   "execution_count": 32,
   "metadata": {},
   "outputs": [
    {
     "data": {
      "text/plain": [
       "Counter({'4': 152, '1': 157, '3': 176, '2': 48, '5': 45, '7': 17, '6': 1})"
      ]
     },
     "execution_count": 32,
     "metadata": {},
     "output_type": "execute_result"
    }
   ],
   "source": [
    "Counter(Q2_res_average)"
   ]
  },
  {
   "cell_type": "markdown",
   "metadata": {},
   "source": [
    "Около половины пользователей группы average пожаловались на обрывы при звонках, качество связи в зданиях и медленный мобильный интернет."
   ]
  },
  {
   "cell_type": "markdown",
   "metadata": {},
   "source": [
    "Также посмотрим данные для группы **good**:"
   ]
  },
  {
   "cell_type": "code",
   "execution_count": 33,
   "metadata": {},
   "outputs": [
    {
     "data": {
      "text/html": [
       "<div>\n",
       "<style scoped>\n",
       "    .dataframe tbody tr th:only-of-type {\n",
       "        vertical-align: middle;\n",
       "    }\n",
       "\n",
       "    .dataframe tbody tr th {\n",
       "        vertical-align: top;\n",
       "    }\n",
       "\n",
       "    .dataframe thead th {\n",
       "        text-align: right;\n",
       "    }\n",
       "</style>\n",
       "<table border=\"1\" class=\"dataframe\">\n",
       "  <thead>\n",
       "    <tr style=\"text-align: right;\">\n",
       "      <th></th>\n",
       "      <th>user_id</th>\n",
       "      <th>Q1</th>\n",
       "      <th>Q2</th>\n",
       "      <th>Total Traffic(MB)</th>\n",
       "      <th>Downlink Throughput(Kbps)</th>\n",
       "      <th>Uplink Throughput(Kbps)</th>\n",
       "      <th>Downlink TCP Retransmission Rate(%)</th>\n",
       "      <th>Video Streaming Download Throughput(Kbps)</th>\n",
       "      <th>Video Streaming xKB Start Delay(ms)</th>\n",
       "      <th>Web Page Download Throughput(Kbps)</th>\n",
       "      <th>Web Average TCP RTT(ms)</th>\n",
       "    </tr>\n",
       "  </thead>\n",
       "  <tbody>\n",
       "    <tr>\n",
       "      <th>3</th>\n",
       "      <td>4</td>\n",
       "      <td>8</td>\n",
       "      <td>3</td>\n",
       "      <td>179.18564</td>\n",
       "      <td>2590.97</td>\n",
       "      <td>325.88</td>\n",
       "      <td>0.80</td>\n",
       "      <td>7053.81</td>\n",
       "      <td>3218</td>\n",
       "      <td>1221.02</td>\n",
       "      <td>51</td>\n",
       "    </tr>\n",
       "    <tr>\n",
       "      <th>14</th>\n",
       "      <td>15</td>\n",
       "      <td>8</td>\n",
       "      <td>3, 4</td>\n",
       "      <td>485.87565</td>\n",
       "      <td>1700.86</td>\n",
       "      <td>155.76</td>\n",
       "      <td>1.01</td>\n",
       "      <td>2438.20</td>\n",
       "      <td>4512</td>\n",
       "      <td>2612.73</td>\n",
       "      <td>104</td>\n",
       "    </tr>\n",
       "    <tr>\n",
       "      <th>18</th>\n",
       "      <td>19</td>\n",
       "      <td>7</td>\n",
       "      <td>3</td>\n",
       "      <td>811.55618</td>\n",
       "      <td>460.32</td>\n",
       "      <td>65.20</td>\n",
       "      <td>1.50</td>\n",
       "      <td>1583.27</td>\n",
       "      <td>1340</td>\n",
       "      <td>1587.16</td>\n",
       "      <td>57</td>\n",
       "    </tr>\n",
       "    <tr>\n",
       "      <th>23</th>\n",
       "      <td>24</td>\n",
       "      <td>7</td>\n",
       "      <td>3, 5</td>\n",
       "      <td>844.86300</td>\n",
       "      <td>1167.36</td>\n",
       "      <td>30.56</td>\n",
       "      <td>0.48</td>\n",
       "      <td>1560.77</td>\n",
       "      <td>4949</td>\n",
       "      <td>471.73</td>\n",
       "      <td>147</td>\n",
       "    </tr>\n",
       "    <tr>\n",
       "      <th>55</th>\n",
       "      <td>56</td>\n",
       "      <td>7</td>\n",
       "      <td>1, 4</td>\n",
       "      <td>316.85435</td>\n",
       "      <td>208.64</td>\n",
       "      <td>38.83</td>\n",
       "      <td>3.36</td>\n",
       "      <td>631.31</td>\n",
       "      <td>6492</td>\n",
       "      <td>524.90</td>\n",
       "      <td>613</td>\n",
       "    </tr>\n",
       "    <tr>\n",
       "      <th>...</th>\n",
       "      <td>...</td>\n",
       "      <td>...</td>\n",
       "      <td>...</td>\n",
       "      <td>...</td>\n",
       "      <td>...</td>\n",
       "      <td>...</td>\n",
       "      <td>...</td>\n",
       "      <td>...</td>\n",
       "      <td>...</td>\n",
       "      <td>...</td>\n",
       "      <td>...</td>\n",
       "    </tr>\n",
       "    <tr>\n",
       "      <th>3070</th>\n",
       "      <td>3071</td>\n",
       "      <td>8</td>\n",
       "      <td>3</td>\n",
       "      <td>741.69656</td>\n",
       "      <td>498.88</td>\n",
       "      <td>73.80</td>\n",
       "      <td>0.76</td>\n",
       "      <td>1201.63</td>\n",
       "      <td>3633</td>\n",
       "      <td>679.58</td>\n",
       "      <td>251</td>\n",
       "    </tr>\n",
       "    <tr>\n",
       "      <th>3074</th>\n",
       "      <td>3075</td>\n",
       "      <td>8</td>\n",
       "      <td>3</td>\n",
       "      <td>197.97810</td>\n",
       "      <td>769.05</td>\n",
       "      <td>52.08</td>\n",
       "      <td>0.32</td>\n",
       "      <td>13735.79</td>\n",
       "      <td>1088</td>\n",
       "      <td>6886.22</td>\n",
       "      <td>65</td>\n",
       "    </tr>\n",
       "    <tr>\n",
       "      <th>3096</th>\n",
       "      <td>3097</td>\n",
       "      <td>7</td>\n",
       "      <td>1, 2, 3, 4</td>\n",
       "      <td>288.36161</td>\n",
       "      <td>4975.96</td>\n",
       "      <td>174.31</td>\n",
       "      <td>3.27</td>\n",
       "      <td>14197.82</td>\n",
       "      <td>1278</td>\n",
       "      <td>2329.22</td>\n",
       "      <td>105</td>\n",
       "    </tr>\n",
       "    <tr>\n",
       "      <th>3101</th>\n",
       "      <td>3102</td>\n",
       "      <td>8</td>\n",
       "      <td>4</td>\n",
       "      <td>189.14150</td>\n",
       "      <td>2432.18</td>\n",
       "      <td>72.80</td>\n",
       "      <td>0.70</td>\n",
       "      <td>2152.91</td>\n",
       "      <td>2719</td>\n",
       "      <td>1410.52</td>\n",
       "      <td>289</td>\n",
       "    </tr>\n",
       "    <tr>\n",
       "      <th>3102</th>\n",
       "      <td>3103</td>\n",
       "      <td>8</td>\n",
       "      <td>1</td>\n",
       "      <td>413.99008</td>\n",
       "      <td>908.59</td>\n",
       "      <td>215.83</td>\n",
       "      <td>1.62</td>\n",
       "      <td>9449.73</td>\n",
       "      <td>1467</td>\n",
       "      <td>2212.11</td>\n",
       "      <td>51</td>\n",
       "    </tr>\n",
       "  </tbody>\n",
       "</table>\n",
       "<p>329 rows × 11 columns</p>\n",
       "</div>"
      ],
      "text/plain": [
       "      user_id  Q1          Q2  Total Traffic(MB)  Downlink Throughput(Kbps)  \\\n",
       "3           4   8           3          179.18564                    2590.97   \n",
       "14         15   8        3, 4          485.87565                    1700.86   \n",
       "18         19   7           3          811.55618                     460.32   \n",
       "23         24   7        3, 5          844.86300                    1167.36   \n",
       "55         56   7        1, 4          316.85435                     208.64   \n",
       "...       ...  ..         ...                ...                        ...   \n",
       "3070     3071   8           3          741.69656                     498.88   \n",
       "3074     3075   8           3          197.97810                     769.05   \n",
       "3096     3097   7  1, 2, 3, 4          288.36161                    4975.96   \n",
       "3101     3102   8           4          189.14150                    2432.18   \n",
       "3102     3103   8           1          413.99008                     908.59   \n",
       "\n",
       "      Uplink Throughput(Kbps)  Downlink TCP Retransmission Rate(%)  \\\n",
       "3                      325.88                                 0.80   \n",
       "14                     155.76                                 1.01   \n",
       "18                      65.20                                 1.50   \n",
       "23                      30.56                                 0.48   \n",
       "55                      38.83                                 3.36   \n",
       "...                       ...                                  ...   \n",
       "3070                    73.80                                 0.76   \n",
       "3074                    52.08                                 0.32   \n",
       "3096                   174.31                                 3.27   \n",
       "3101                    72.80                                 0.70   \n",
       "3102                   215.83                                 1.62   \n",
       "\n",
       "      Video Streaming Download Throughput(Kbps)  \\\n",
       "3                                       7053.81   \n",
       "14                                      2438.20   \n",
       "18                                      1583.27   \n",
       "23                                      1560.77   \n",
       "55                                       631.31   \n",
       "...                                         ...   \n",
       "3070                                    1201.63   \n",
       "3074                                   13735.79   \n",
       "3096                                   14197.82   \n",
       "3101                                    2152.91   \n",
       "3102                                    9449.73   \n",
       "\n",
       "      Video Streaming xKB Start Delay(ms)  Web Page Download Throughput(Kbps)  \\\n",
       "3                                    3218                             1221.02   \n",
       "14                                   4512                             2612.73   \n",
       "18                                   1340                             1587.16   \n",
       "23                                   4949                              471.73   \n",
       "55                                   6492                              524.90   \n",
       "...                                   ...                                 ...   \n",
       "3070                                 3633                              679.58   \n",
       "3074                                 1088                             6886.22   \n",
       "3096                                 1278                             2329.22   \n",
       "3101                                 2719                             1410.52   \n",
       "3102                                 1467                             2212.11   \n",
       "\n",
       "      Web Average TCP RTT(ms)  \n",
       "3                          51  \n",
       "14                        104  \n",
       "18                         57  \n",
       "23                        147  \n",
       "55                        613  \n",
       "...                       ...  \n",
       "3070                      251  \n",
       "3074                       65  \n",
       "3096                      105  \n",
       "3101                      289  \n",
       "3102                       51  \n",
       "\n",
       "[329 rows x 11 columns]"
      ]
     },
     "execution_count": 33,
     "metadata": {},
     "output_type": "execute_result"
    }
   ],
   "source": [
    "good.dropna()"
   ]
  },
  {
   "cell_type": "markdown",
   "metadata": {},
   "source": [
    "329 человек ответили на 2 вопрос"
   ]
  },
  {
   "cell_type": "code",
   "execution_count": 34,
   "metadata": {},
   "outputs": [
    {
     "data": {
      "text/plain": [
       "array(['3', '3, 4', nan, '3, 5', '1, 4', '7', '1, 3, 4, 5', '4', '1',\n",
       "       '1, 3', '1, 3, 4', '6', '2, 5', '4, 5', '5', '1, 2, 3', '1, 2',\n",
       "       '3, 4, 5', '1, 2, 3, 4, 5', '2, 3', '2', '2, 4', '2, 3, 4',\n",
       "       '1, 4, 5', '5, 6', '1, 5', '1, 3, 5', '0, 05, 2, 27, 7', '1, 4, 7',\n",
       "       '2, 3, 4, 5', '1, 2, 4, 5', '2, 4, 5', '1, 2, 3, 4'], dtype=object)"
      ]
     },
     "execution_count": 34,
     "metadata": {},
     "output_type": "execute_result"
    }
   ],
   "source": [
    "good.Q2.unique()"
   ]
  },
  {
   "cell_type": "code",
   "execution_count": 35,
   "metadata": {},
   "outputs": [
    {
     "name": "stderr",
     "output_type": "stream",
     "text": [
      "C:\\ProgramData\\Anaconda3\\lib\\site-packages\\pandas\\core\\indexing.py:966: SettingWithCopyWarning: \n",
      "A value is trying to be set on a copy of a slice from a DataFrame.\n",
      "Try using .loc[row_indexer,col_indexer] = value instead\n",
      "\n",
      "See the caveats in the documentation: https://pandas.pydata.org/pandas-docs/stable/user_guide/indexing.html#returning-a-view-versus-a-copy\n",
      "  self.obj[item] = s\n"
     ]
    }
   ],
   "source": [
    "good.loc[good.Q2 == '0, 05, 2, 27, 7', \"Q2\"] = \"2, 5, 7\""
   ]
  },
  {
   "cell_type": "code",
   "execution_count": 36,
   "metadata": {},
   "outputs": [
    {
     "data": {
      "text/plain": [
       "['3', '3', '4', '3', '3']"
      ]
     },
     "execution_count": 36,
     "metadata": {},
     "output_type": "execute_result"
    }
   ],
   "source": [
    "Q2_res_good = []\n",
    "for element in list(good.Q2.dropna()):\n",
    "    Q2_res_good.extend(element.split(\", \"))\n",
    "Q2_res_good[:5]"
   ]
  },
  {
   "cell_type": "code",
   "execution_count": 37,
   "metadata": {},
   "outputs": [
    {
     "data": {
      "text/plain": [
       "Counter({'3': 157, '4': 128, '5': 51, '1': 123, '7': 11, '6': 9, '2': 32})"
      ]
     },
     "execution_count": 37,
     "metadata": {},
     "output_type": "execute_result"
    }
   ],
   "source": [
    "Counter(Q2_res_good)"
   ]
  },
  {
   "cell_type": "markdown",
   "metadata": {},
   "source": [
    "Доля каждой из проблем уменьшилась. Так как мы откинули пустые ответы, это свидетельствует о том, что в группе **good** люди реже сталкиваются с несколькими проблемами сразу. Также примечательно, что проблемы с загрузкой видео возникали в среднем чаще, чем у группы **average**."
   ]
  },
  {
   "cell_type": "markdown",
   "metadata": {},
   "source": [
    "Значительная часть негативных отзывов о связи (приблизительно, 1/3) заключается в проблемах с интернетом. Более того, у нас имеются достаточно подробные данные о характеристиках интернет соединения у абонентов. Главным предметом исследования является сравнение различных характеристик интернет-соединения у разных групп. Наиболее важным является сравнение их у групп **bad** и **perfect**. Для этой цели были выбраны метрики, на первый взгляд имеющие чёткую и однозначную зависимость от оценки абонента. В противовес также была рассмотрена метрика, на первый взгляд не имеющая чёткой зависимости от оценки абонента. В качестве нулевых гипотез во всех трёх случаях принимаем **статистическое равенство** метрик у различных групп."
   ]
  },
  {
   "cell_type": "markdown",
   "metadata": {},
   "source": [
    "Из данных выше можно выдвинуть следующие гипотезы: <br>\n",
    "1) Средняя скорость загрузки для групп **bad** и **average** не отличается значительно. <br>\n",
    "2) У групп **bad** и **perfect** статистически отличается показатель скорости повторной отправки пакетов. <br>\n",
    "3) У групп **bad** и **perfect** также значительно различается параметр скорости обработки интернет запроса. <br>"
   ]
  },
  {
   "cell_type": "markdown",
   "metadata": {},
   "source": [
    "### 1) Сравнение средней скорости загрузки для групп bad и average"
   ]
  },
  {
   "cell_type": "markdown",
   "metadata": {},
   "source": [
    "H<sub>0</sub>: DS<sub>bad</sub> = DS<sub>average</sub>"
   ]
  },
  {
   "cell_type": "markdown",
   "metadata": {},
   "source": [
    "В данном случае принимается нулевая гипотеза об отсутствии статистической разницы у групп **bad** и **average** в такой характеристике, как скорость загрузки данных."
   ]
  },
  {
   "cell_type": "markdown",
   "metadata": {},
   "source": [
    "Посмотрим среднии значения:"
   ]
  },
  {
   "cell_type": "code",
   "execution_count": 38,
   "metadata": {},
   "outputs": [
    {
     "data": {
      "text/plain": [
       "1900.775781399808"
      ]
     },
     "execution_count": 38,
     "metadata": {},
     "output_type": "execute_result"
    }
   ],
   "source": [
    "bad[\"Downlink Throughput(Kbps)\"].agg('mean')"
   ]
  },
  {
   "cell_type": "code",
   "execution_count": 39,
   "metadata": {},
   "outputs": [
    {
     "data": {
      "text/plain": [
       "2239.919723404253"
      ]
     },
     "execution_count": 39,
     "metadata": {},
     "output_type": "execute_result"
    }
   ],
   "source": [
    "average[\"Downlink Throughput(Kbps)\"].agg('mean')"
   ]
  },
  {
   "cell_type": "code",
   "execution_count": 40,
   "metadata": {},
   "outputs": [
    {
     "data": {
      "text/plain": [
       "(1043, 11)"
      ]
     },
     "execution_count": 40,
     "metadata": {},
     "output_type": "execute_result"
    }
   ],
   "source": [
    "bad.shape"
   ]
  },
  {
   "cell_type": "code",
   "execution_count": 41,
   "metadata": {},
   "outputs": [
    {
     "data": {
      "text/plain": [
       "(470, 11)"
      ]
     },
     "execution_count": 41,
     "metadata": {},
     "output_type": "execute_result"
    }
   ],
   "source": [
    "average.shape"
   ]
  },
  {
   "cell_type": "markdown",
   "metadata": {},
   "source": [
    "Посмотрим распределение для средней скорости загрузки для групп bad и average"
   ]
  },
  {
   "cell_type": "code",
   "execution_count": 42,
   "metadata": {},
   "outputs": [
    {
     "name": "stderr",
     "output_type": "stream",
     "text": [
      "C:\\Users\\Sosipisos\\AppData\\Roaming\\Python\\Python38\\site-packages\\seaborn\\distributions.py:2557: FutureWarning: `distplot` is a deprecated function and will be removed in a future version. Please adapt your code to use either `displot` (a figure-level function with similar flexibility) or `histplot` (an axes-level function for histograms).\n",
      "  warnings.warn(msg, FutureWarning)\n"
     ]
    },
    {
     "data": {
      "image/png": "[encoded data removed]",
      "text/plain": [
       "<Figure size 432x288 with 1 Axes>"
      ]
     },
     "metadata": {
      "needs_background": "light"
     },
     "output_type": "display_data"
    }
   ],
   "source": [
    "ax = sns.distplot(bad[\"Downlink Throughput(Kbps)\"], bins=50)\n",
    "ax.set_title(f'Распределение для признака \"Downlink Throughput(Kbps)\" для выборки с плохими оценками')\n",
    "plt.show()"
   ]
  },
  {
   "cell_type": "code",
   "execution_count": 43,
   "metadata": {},
   "outputs": [
    {
     "name": "stderr",
     "output_type": "stream",
     "text": [
      "C:\\Users\\Sosipisos\\AppData\\Roaming\\Python\\Python38\\site-packages\\seaborn\\distributions.py:2557: FutureWarning: `distplot` is a deprecated function and will be removed in a future version. Please adapt your code to use either `displot` (a figure-level function with similar flexibility) or `histplot` (an axes-level function for histograms).\n",
      "  warnings.warn(msg, FutureWarning)\n"
     ]
    },
    {
     "data": {
      "image/png": "[encoded data removed]",
      "text/plain": [
       "<Figure size 432x288 with 1 Axes>"
      ]
     },
     "metadata": {
      "needs_background": "light"
     },
     "output_type": "display_data"
    }
   ],
   "source": [
    "ax = sns.distplot(average[\"Downlink Throughput(Kbps)\"], bins=50)\n",
    "ax.set_title(f'Распределение для признака \"Downlink Throughput(Kbps)\" для выборки со средними оценками')\n",
    "plt.show()"
   ]
  },
  {
   "cell_type": "markdown",
   "metadata": {},
   "source": [
    "Так как число наблюдений у нас сильно различается для обоих случаев, воспользуемся алгоритмом бутстрепа"
   ]
  },
  {
   "cell_type": "code",
   "execution_count": 44,
   "metadata": {},
   "outputs": [],
   "source": [
    "def bootstrap(arr,n=100,N_TRIAL = 1000,func = np.mean):\n",
    "    res = []\n",
    "    n = min(len(arr),n)\n",
    "    # Инициализируем цикл попыток\n",
    "    for _ in range(N_TRIAL):\n",
    "        # Делаем подвыборку размера n\n",
    "        if len(arr.shape)>1:\n",
    "            ind = np.random.choice(np.arange(arr.shape[0]), size = (n,))\n",
    "            subsample = arr.iloc[ind]\n",
    "        else:\n",
    "            subsample = np.random.choice(arr, size = (n,))\n",
    "        # рассчитываем статистику\n",
    "        stat = func(subsample)\n",
    "        res.append(stat)\n",
    "    return res # shape (N_TRIAL,)"
   ]
  },
  {
   "cell_type": "code",
   "execution_count": 45,
   "metadata": {},
   "outputs": [],
   "source": [
    "samples_bad = bootstrap(bad[\"Downlink Throughput(Kbps)\"], N_TRIAL=1500)\n",
    "samples_average = bootstrap(average[\"Downlink Throughput(Kbps)\"], N_TRIAL=1500)"
   ]
  },
  {
   "cell_type": "code",
   "execution_count": 46,
   "metadata": {},
   "outputs": [
    {
     "name": "stderr",
     "output_type": "stream",
     "text": [
      "C:\\Users\\Sosipisos\\AppData\\Roaming\\Python\\Python38\\site-packages\\seaborn\\distributions.py:2557: FutureWarning: `distplot` is a deprecated function and will be removed in a future version. Please adapt your code to use either `displot` (a figure-level function with similar flexibility) or `histplot` (an axes-level function for histograms).\n",
      "  warnings.warn(msg, FutureWarning)\n",
      "C:\\Users\\Sosipisos\\AppData\\Roaming\\Python\\Python38\\site-packages\\seaborn\\distributions.py:2557: FutureWarning: `distplot` is a deprecated function and will be removed in a future version. Please adapt your code to use either `displot` (a figure-level function with similar flexibility) or `histplot` (an axes-level function for histograms).\n",
      "  warnings.warn(msg, FutureWarning)\n"
     ]
    },
    {
     "data": {
      "image/png": "[encoded data removed]",
      "text/plain": [
       "<Figure size 432x288 with 1 Axes>"
      ]
     },
     "metadata": {
      "needs_background": "light"
     },
     "output_type": "display_data"
    }
   ],
   "source": [
    "ax = sns.distplot(samples_bad, label = 'Bad')\n",
    "sns.distplot(samples_average, ax = ax, label = 'Average')\n",
    "ax.legend(['Bad 1-3','Average 4-6'])\n",
    "\n",
    "ax.axvline(np.percentile(samples_bad, 2.5), linestyle='--', color='b')\n",
    "ax.axvline(np.percentile(samples_bad, 97.5), linestyle='--', color='b')\n",
    "\n",
    "ax.axvline(np.percentile(samples_average, 2.5), linestyle='--', color='orange')\n",
    "ax.axvline(np.percentile(samples_average, 97.5), linestyle='--', color='orange')\n",
    "plt.show()"
   ]
  },
  {
   "cell_type": "markdown",
   "metadata": {},
   "source": [
    "Здесь видно, что доверительные интервалы у нас пересекаются, значит, статистически значимой разницы не наблюдается."
   ]
  },
  {
   "cell_type": "markdown",
   "metadata": {},
   "source": [
    "Далее пронаблюдаем разницу средних. Возьмём по 150 случайных значений из каждой выборки, посчитаем разницу между ними. Сделаем так 1000 раз и получим распределение разницы средних."
   ]
  },
  {
   "cell_type": "code",
   "execution_count": 47,
   "metadata": {},
   "outputs": [],
   "source": [
    "buf = []\n",
    "for i in range(1000):\n",
    "    fst_sample =  bad[\"Downlink Throughput(Kbps)\"].sample(150)\n",
    "    snd_sample =  average[\"Downlink Throughput(Kbps)\"].sample(150)\n",
    "    buf.append(np.mean(fst_sample) - np.mean(snd_sample))"
   ]
  },
  {
   "cell_type": "code",
   "execution_count": 48,
   "metadata": {},
   "outputs": [
    {
     "name": "stderr",
     "output_type": "stream",
     "text": [
      "C:\\Users\\Sosipisos\\AppData\\Roaming\\Python\\Python38\\site-packages\\seaborn\\distributions.py:2557: FutureWarning: `distplot` is a deprecated function and will be removed in a future version. Please adapt your code to use either `displot` (a figure-level function with similar flexibility) or `histplot` (an axes-level function for histograms).\n",
      "  warnings.warn(msg, FutureWarning)\n"
     ]
    },
    {
     "name": "stdout",
     "output_type": "stream",
     "text": [
      "pct 2.5% = -807.12\n",
      "pct 97.5% = 165.70\n"
     ]
    },
    {
     "data": {
      "image/png": "[encoded data removed]",
      "text/plain": [
       "<Figure size 432x288 with 1 Axes>"
      ]
     },
     "metadata": {
      "needs_background": "light"
     },
     "output_type": "display_data"
    }
   ],
   "source": [
    "ax_buf = sns.distplot(buf)\n",
    "ax_buf.set_title(f'Распределение разницы средних для средней скорости загрузки. \\n Группы bad и average')\n",
    "ax_buf.axvline(np.percentile(buf, 2.5), linestyle='-', color='b')\n",
    "ax_buf.axvline(np.percentile(buf, 97.5), linestyle='-', color='b')\n",
    "print(f'pct 2.5% = {np.percentile(buf, 2.5):.2f}\\npct 97.5% = {np.percentile(buf, 97.5):.2f}')"
   ]
  },
  {
   "cell_type": "markdown",
   "metadata": {},
   "source": [
    "Ноль входит в доверительный интервал, поэтому отвергнуть нулевую гипотезу о том, что скорость загрузки у групп **bad** и **average** статистически схожа, мы не можем. Скорее всего, более низкая оценка продиктована низким качеством голосовой связи."
   ]
  },
  {
   "cell_type": "markdown",
   "metadata": {},
   "source": [
    "Далее необходимо проверить метрики, на первый взгляд имеющие разные значения у групп **bad** и **perfect**."
   ]
  },
  {
   "cell_type": "markdown",
   "metadata": {},
   "source": [
    "### 2) Сравнение коэффициента повторной отправки пакетов у групп bad и perfect"
   ]
  },
  {
   "cell_type": "markdown",
   "metadata": {},
   "source": [
    "H<sub>0</sub>: DTCPRR<sub>bad</sub> = DTCPRR<sub>perfect</sub>"
   ]
  },
  {
   "cell_type": "markdown",
   "metadata": {},
   "source": [
    "В данном случае принимается нулевая гипотеза об отсутствии статистической разницы у групп **bad** и **perfect** в такой характеристике, как коэффициент повторной отправки пакетов."
   ]
  },
  {
   "cell_type": "code",
   "execution_count": 49,
   "metadata": {},
   "outputs": [
    {
     "data": {
      "text/plain": [
       "2.0915723873442005"
      ]
     },
     "execution_count": 49,
     "metadata": {},
     "output_type": "execute_result"
    }
   ],
   "source": [
    "bad[\"Downlink TCP Retransmission Rate(%)\"].mean()"
   ]
  },
  {
   "cell_type": "code",
   "execution_count": 50,
   "metadata": {},
   "outputs": [
    {
     "data": {
      "text/plain": [
       "1.649605142332414"
      ]
     },
     "execution_count": 50,
     "metadata": {},
     "output_type": "execute_result"
    }
   ],
   "source": [
    "perfect['Downlink TCP Retransmission Rate(%)'].mean()"
   ]
  },
  {
   "cell_type": "code",
   "execution_count": 51,
   "metadata": {},
   "outputs": [
    {
     "data": {
      "text/plain": [
       "(1089, 11)"
      ]
     },
     "execution_count": 51,
     "metadata": {},
     "output_type": "execute_result"
    }
   ],
   "source": [
    "perfect.shape"
   ]
  },
  {
   "cell_type": "markdown",
   "metadata": {},
   "source": [
    "Размер выборки также слишком мал  и не равен размеру выборки **bad**."
   ]
  },
  {
   "cell_type": "markdown",
   "metadata": {},
   "source": [
    "Посмотрим распределения значений в разрезе 2 групп:"
   ]
  },
  {
   "cell_type": "code",
   "execution_count": 52,
   "metadata": {},
   "outputs": [
    {
     "name": "stderr",
     "output_type": "stream",
     "text": [
      "C:\\Users\\Sosipisos\\AppData\\Roaming\\Python\\Python38\\site-packages\\seaborn\\distributions.py:2557: FutureWarning: `distplot` is a deprecated function and will be removed in a future version. Please adapt your code to use either `displot` (a figure-level function with similar flexibility) or `histplot` (an axes-level function for histograms).\n",
      "  warnings.warn(msg, FutureWarning)\n"
     ]
    },
    {
     "data": {
      "image/png": "[encoded data removed]",
      "text/plain": [
       "<Figure size 432x288 with 1 Axes>"
      ]
     },
     "metadata": {
      "needs_background": "light"
     },
     "output_type": "display_data"
    }
   ],
   "source": [
    "ax = sns.distplot(bad[\"Downlink TCP Retransmission Rate(%)\"], bins=50)\n",
    "ax.set_title(f'Распределение для признака % повторной отправки пакетов для выборки с плохими оценками')\n",
    "plt.show()"
   ]
  },
  {
   "cell_type": "code",
   "execution_count": 53,
   "metadata": {},
   "outputs": [
    {
     "name": "stderr",
     "output_type": "stream",
     "text": [
      "C:\\Users\\Sosipisos\\AppData\\Roaming\\Python\\Python38\\site-packages\\seaborn\\distributions.py:2557: FutureWarning: `distplot` is a deprecated function and will be removed in a future version. Please adapt your code to use either `displot` (a figure-level function with similar flexibility) or `histplot` (an axes-level function for histograms).\n",
      "  warnings.warn(msg, FutureWarning)\n"
     ]
    },
    {
     "data": {
      "image/png": "[encoded data removed]",
      "text/plain": [
       "<Figure size 432x288 with 1 Axes>"
      ]
     },
     "metadata": {
      "needs_background": "light"
     },
     "output_type": "display_data"
    }
   ],
   "source": [
    "ax = sns.distplot(perfect[\"Downlink TCP Retransmission Rate(%)\"], bins=50)\n",
    "ax.set_title(f'Распределение для признака % повторной отправки пакетов для выборки со лучшими оценками')\n",
    "plt.show()"
   ]
  },
  {
   "cell_type": "markdown",
   "metadata": {},
   "source": [
    "Применим функцию бутстрепа:"
   ]
  },
  {
   "cell_type": "code",
   "execution_count": 54,
   "metadata": {},
   "outputs": [],
   "source": [
    "samples_bad = bootstrap(bad[\"Downlink TCP Retransmission Rate(%)\"], N_TRIAL=1500)\n",
    "samples_perfect = bootstrap(perfect[\"Downlink TCP Retransmission Rate(%)\"], N_TRIAL=1500)"
   ]
  },
  {
   "cell_type": "markdown",
   "metadata": {},
   "source": [
    "Посмотрим распределения вместе с доверительными интервалами:"
   ]
  },
  {
   "cell_type": "code",
   "execution_count": 55,
   "metadata": {},
   "outputs": [
    {
     "name": "stderr",
     "output_type": "stream",
     "text": [
      "C:\\Users\\Sosipisos\\AppData\\Roaming\\Python\\Python38\\site-packages\\seaborn\\distributions.py:2557: FutureWarning: `distplot` is a deprecated function and will be removed in a future version. Please adapt your code to use either `displot` (a figure-level function with similar flexibility) or `histplot` (an axes-level function for histograms).\n",
      "  warnings.warn(msg, FutureWarning)\n",
      "C:\\Users\\Sosipisos\\AppData\\Roaming\\Python\\Python38\\site-packages\\seaborn\\distributions.py:2557: FutureWarning: `distplot` is a deprecated function and will be removed in a future version. Please adapt your code to use either `displot` (a figure-level function with similar flexibility) or `histplot` (an axes-level function for histograms).\n",
      "  warnings.warn(msg, FutureWarning)\n"
     ]
    },
    {
     "data": {
      "image/png": "[encoded data removed]",
      "text/plain": [
       "<Figure size 432x288 with 1 Axes>"
      ]
     },
     "metadata": {
      "needs_background": "light"
     },
     "output_type": "display_data"
    }
   ],
   "source": [
    "ax = sns.distplot(samples_bad, label = 'Bad')\n",
    "sns.distplot(samples_perfect, ax = ax, label = 'Perfect')\n",
    "ax.legend(['Bad 1-3', 'Perfect 9-10'])\n",
    "\n",
    "ax.axvline(np.percentile(samples_bad, 2.5), linestyle='--', color='b')\n",
    "ax.axvline(np.percentile(samples_bad, 97.5), linestyle='--', color='b')\n",
    "\n",
    "ax.axvline(np.percentile(samples_perfect, 2.5), linestyle='--', color='orange')\n",
    "ax.axvline(np.percentile(samples_perfect, 97.5), linestyle='--', color='orange')\n",
    "plt.show()"
   ]
  },
  {
   "cell_type": "markdown",
   "metadata": {},
   "source": [
    "Доверительные интервалы также пересекаются. Нельзя заявить о статистически значимой разнице в признаке."
   ]
  },
  {
   "cell_type": "code",
   "execution_count": 56,
   "metadata": {},
   "outputs": [],
   "source": [
    "buf = []\n",
    "for i in range(1000):\n",
    "    fst_sample =  bad[\"Downlink TCP Retransmission Rate(%)\"].sample(150)\n",
    "    snd_sample =  perfect[\"Downlink TCP Retransmission Rate(%)\"].sample(150)\n",
    "    buf.append(np.mean(fst_sample) - np.mean(snd_sample))"
   ]
  },
  {
   "cell_type": "code",
   "execution_count": 57,
   "metadata": {},
   "outputs": [
    {
     "name": "stderr",
     "output_type": "stream",
     "text": [
      "C:\\Users\\Sosipisos\\AppData\\Roaming\\Python\\Python38\\site-packages\\seaborn\\distributions.py:2557: FutureWarning: `distplot` is a deprecated function and will be removed in a future version. Please adapt your code to use either `displot` (a figure-level function with similar flexibility) or `histplot` (an axes-level function for histograms).\n",
      "  warnings.warn(msg, FutureWarning)\n"
     ]
    },
    {
     "name": "stdout",
     "output_type": "stream",
     "text": [
      "pct 2.5% = -0.03\n",
      "pct 97.5% = 0.88\n"
     ]
    },
    {
     "data": {
      "image/png": "[encoded data removed]",
      "text/plain": [
       "<Figure size 432x288 with 1 Axes>"
      ]
     },
     "metadata": {
      "needs_background": "light"
     },
     "output_type": "display_data"
    }
   ],
   "source": [
    "ax_buf = sns.distplot(buf)\n",
    "ax_buf.set_title(f'Распределение разницы средних для повторной отправки пакетов. \\n Группы bad и perfect')\n",
    "ax_buf.axvline(np.percentile(buf, 2.5), linestyle='-', color='b')\n",
    "ax_buf.axvline(np.percentile(buf, 97.5), linestyle='-', color='b')\n",
    "print(f'pct 2.5% = {np.percentile(buf, 2.5):.2f}\\npct 97.5% = {np.percentile(buf, 97.5):.2f}')"
   ]
  },
  {
   "cell_type": "markdown",
   "metadata": {},
   "source": [
    "Ноль не входит в интервал, значит, нулевая гипотеза не подтвердилась, её следует отвергнуть и принять альтернативную <br> H<sub>1</sub>: DTCPRR<sub>bad</sub> > DTCPRR<sub>perfect</sub> <br>\n",
    "Коэффициент повторной отправки пакетов для группы **perfect** статистически значимо ниже, чем для группы **bad**."
   ]
  },
  {
   "cell_type": "markdown",
   "metadata": {},
   "source": [
    "### 3) Сравнение величины задержки перед обработкой интернет-запроса у групп bad и perfect"
   ]
  },
  {
   "cell_type": "markdown",
   "metadata": {},
   "source": [
    "H<sub>0</sub>: WATR<sub>bad</sub> = WATR<sub>perfect</sub>"
   ]
  },
  {
   "cell_type": "markdown",
   "metadata": {},
   "source": [
    "В этой случае мы принимаем нулевую гипотеза об отсутствии статистической разницы у групп ***bad** и **perfect** в такой характеристике, как величина задержки перед обработкой интернет запроса."
   ]
  },
  {
   "cell_type": "code",
   "execution_count": 58,
   "metadata": {},
   "outputs": [
    {
     "data": {
      "text/plain": [
       "237.37488015340364"
      ]
     },
     "execution_count": 58,
     "metadata": {},
     "output_type": "execute_result"
    }
   ],
   "source": [
    "bad[\"Web Average TCP RTT(ms)\"].mean()"
   ]
  },
  {
   "cell_type": "code",
   "execution_count": 59,
   "metadata": {},
   "outputs": [
    {
     "data": {
      "text/plain": [
       "167.29568411386595"
      ]
     },
     "execution_count": 59,
     "metadata": {},
     "output_type": "execute_result"
    }
   ],
   "source": [
    "perfect[\"Web Average TCP RTT(ms)\"].mean()"
   ]
  },
  {
   "cell_type": "code",
   "execution_count": 60,
   "metadata": {},
   "outputs": [
    {
     "name": "stderr",
     "output_type": "stream",
     "text": [
      "C:\\Users\\Sosipisos\\AppData\\Roaming\\Python\\Python38\\site-packages\\seaborn\\distributions.py:2557: FutureWarning: `distplot` is a deprecated function and will be removed in a future version. Please adapt your code to use either `displot` (a figure-level function with similar flexibility) or `histplot` (an axes-level function for histograms).\n",
      "  warnings.warn(msg, FutureWarning)\n"
     ]
    },
    {
     "data": {
      "image/png": "[encoded data removed]",
      "text/plain": [
       "<Figure size 432x288 with 1 Axes>"
      ]
     },
     "metadata": {
      "needs_background": "light"
     },
     "output_type": "display_data"
    }
   ],
   "source": [
    "ax = sns.distplot(bad[\"Web Average TCP RTT(ms)\"], bins=50)\n",
    "ax.set_title(f'Распределение для признака величины задержки перед обработкой интернет-запроса \\n для выборки с плохими оценками')\n",
    "plt.show()"
   ]
  },
  {
   "cell_type": "code",
   "execution_count": 61,
   "metadata": {},
   "outputs": [
    {
     "name": "stderr",
     "output_type": "stream",
     "text": [
      "C:\\Users\\Sosipisos\\AppData\\Roaming\\Python\\Python38\\site-packages\\seaborn\\distributions.py:2557: FutureWarning: `distplot` is a deprecated function and will be removed in a future version. Please adapt your code to use either `displot` (a figure-level function with similar flexibility) or `histplot` (an axes-level function for histograms).\n",
      "  warnings.warn(msg, FutureWarning)\n"
     ]
    },
    {
     "data": {
      "image/png": "[encoded data removed]",
      "text/plain": [
       "<Figure size 432x288 with 1 Axes>"
      ]
     },
     "metadata": {
      "needs_background": "light"
     },
     "output_type": "display_data"
    }
   ],
   "source": [
    "ax = sns.distplot(perfect[\"Web Average TCP RTT(ms)\"], bins=50)\n",
    "ax.set_title(f'Распределение для признака величины задержки перед обработкой интернет-запроса \\n для выборки с лучшими оценками')\n",
    "plt.show()"
   ]
  },
  {
   "cell_type": "code",
   "execution_count": 62,
   "metadata": {},
   "outputs": [],
   "source": [
    "samples_bad = bootstrap(bad[\"Web Average TCP RTT(ms)\"], N_TRIAL=1500)\n",
    "samples_perfect = bootstrap(perfect[\"Web Average TCP RTT(ms)\"], N_TRIAL=1500)"
   ]
  },
  {
   "cell_type": "code",
   "execution_count": 63,
   "metadata": {},
   "outputs": [
    {
     "name": "stderr",
     "output_type": "stream",
     "text": [
      "C:\\Users\\Sosipisos\\AppData\\Roaming\\Python\\Python38\\site-packages\\seaborn\\distributions.py:2557: FutureWarning: `distplot` is a deprecated function and will be removed in a future version. Please adapt your code to use either `displot` (a figure-level function with similar flexibility) or `histplot` (an axes-level function for histograms).\n",
      "  warnings.warn(msg, FutureWarning)\n",
      "C:\\Users\\Sosipisos\\AppData\\Roaming\\Python\\Python38\\site-packages\\seaborn\\distributions.py:2557: FutureWarning: `distplot` is a deprecated function and will be removed in a future version. Please adapt your code to use either `displot` (a figure-level function with similar flexibility) or `histplot` (an axes-level function for histograms).\n",
      "  warnings.warn(msg, FutureWarning)\n"
     ]
    },
    {
     "data": {
      "image/png": "[encoded data removed]",
      "text/plain": [
       "<Figure size 432x288 with 1 Axes>"
      ]
     },
     "metadata": {
      "needs_background": "light"
     },
     "output_type": "display_data"
    }
   ],
   "source": [
    "ax = sns.distplot(samples_bad, label = 'Bad')\n",
    "sns.distplot(samples_perfect, ax = ax, label = 'Perfect')\n",
    "ax.legend(['Bad 1-3', 'Perfect 9-10'])\n",
    "\n",
    "ax.axvline(np.percentile(samples_bad, 2.5), linestyle='--', color='b')\n",
    "ax.axvline(np.percentile(samples_bad, 97.5), linestyle='--', color='b')\n",
    "\n",
    "ax.axvline(np.percentile(samples_perfect, 2.5), linestyle='--', color='orange')\n",
    "ax.axvline(np.percentile(samples_perfect, 97.5), linestyle='--', color='orange')\n",
    "plt.show()"
   ]
  },
  {
   "cell_type": "code",
   "execution_count": 64,
   "metadata": {},
   "outputs": [],
   "source": [
    "buf = []\n",
    "for i in range(1000):\n",
    "    fst_sample =  bad[\"Web Average TCP RTT(ms)\"].sample(150)\n",
    "    snd_sample =  perfect[\"Web Average TCP RTT(ms)\"].sample(150)\n",
    "    buf.append(np.mean(fst_sample) - np.mean(snd_sample))"
   ]
  },
  {
   "cell_type": "code",
   "execution_count": 65,
   "metadata": {},
   "outputs": [
    {
     "name": "stderr",
     "output_type": "stream",
     "text": [
      "C:\\Users\\Sosipisos\\AppData\\Roaming\\Python\\Python38\\site-packages\\seaborn\\distributions.py:2557: FutureWarning: `distplot` is a deprecated function and will be removed in a future version. Please adapt your code to use either `displot` (a figure-level function with similar flexibility) or `histplot` (an axes-level function for histograms).\n",
      "  warnings.warn(msg, FutureWarning)\n"
     ]
    },
    {
     "name": "stdout",
     "output_type": "stream",
     "text": [
      "pct 2.5% = 10.61\n",
      "pct 97.5% = 126.51\n"
     ]
    },
    {
     "data": {
      "image/png": "[encoded data removed]",
      "text/plain": [
       "<Figure size 432x288 with 1 Axes>"
      ]
     },
     "metadata": {
      "needs_background": "light"
     },
     "output_type": "display_data"
    }
   ],
   "source": [
    "ax_buf = sns.distplot(buf)\n",
    "ax_buf.set_title(f'Распределение разницы средних для задержки перед обработкой интернет-запроса. \\n Группы bad и perfect')\n",
    "ax_buf.axvline(np.percentile(buf, 2.5), linestyle='-', color='b')\n",
    "ax_buf.axvline(np.percentile(buf, 97.5), linestyle='-', color='b')\n",
    "print(f'pct 2.5% = {np.percentile(buf, 2.5):.2f}\\npct 97.5% = {np.percentile(buf, 97.5):.2f}')"
   ]
  },
  {
   "cell_type": "markdown",
   "metadata": {},
   "source": [
    "Ноль для этой метрики также не входит в интервал. <br> <br>\n",
    "Нулевая гипотеза также не подтвердилась, её следует отвергнуть и принять альтернативную <br> H<sub>1</sub>: WATR<sub>bad</sub> > WATR<sub>perfect</sub> <br>\n",
    "Задержка перед обработкой интернет-запроса для группы **bad** статистически значимо выше, чем для группы **perfect**."
   ]
  },
  {
   "cell_type": "markdown",
   "metadata": {},
   "source": [
    "### Выводы:"
   ]
  },
  {
   "cell_type": "code",
   "execution_count": 67,
   "metadata": {},
   "outputs": [
    {
     "data": {
      "text/plain": [
       "0.3518578352180937"
      ]
     },
     "execution_count": 67,
     "metadata": {},
     "output_type": "execute_result"
    }
   ],
   "source": [
    "len(perfect) / len(df)"
   ]
  },
  {
   "cell_type": "code",
   "execution_count": 68,
   "metadata": {},
   "outputs": [
    {
     "data": {
      "text/plain": [
       "0.3369951534733441"
      ]
     },
     "execution_count": 68,
     "metadata": {},
     "output_type": "execute_result"
    }
   ],
   "source": [
    "len(bad) / len(df)"
   ]
  },
  {
   "cell_type": "markdown",
   "metadata": {},
   "source": [
    "35.2% пользователей полностью удовлетворены качеством связи, 33.7% полностью неудовлетворены качеством связи."
   ]
  },
  {
   "cell_type": "markdown",
   "metadata": {},
   "source": [
    "Основные причины недовольства - обрывы при звонках, плохое качество связи в зданиях, проблемы с мобильным интернетом."
   ]
  },
  {
   "cell_type": "markdown",
   "metadata": {},
   "source": [
    "У пользователей, поставивших низкую и среднюю оценку НЕ существует статистической разницы в скорости загрузки. Более низкая оценка, вероятно, продиктована совокупностью наличия проблем."
   ]
  },
  {
   "cell_type": "markdown",
   "metadata": {},
   "source": [
    "У пользователей, поставивших хорошую оценку наблюдается меньшее число одновременных проблем со связью."
   ]
  },
  {
   "cell_type": "markdown",
   "metadata": {},
   "source": [
    "У пользователей, поставивших отличную и плохую оценки существует статистическая разница в % переотправок пакетов данных и в задержке перед обработкой запроса. Таким образом, вероятно, именно эти показатели влияют на качество интернета."
   ]
  }
 ],
 "metadata": {
  "kernelspec": {
   "display_name": "Python 3",
   "language": "python",
   "name": "python3"
  },
  "language_info": {
   "codemirror_mode": {
    "name": "ipython",
    "version": 3
   },
   "file_extension": ".py",
   "mimetype": "text/x-python",
   "name": "python",
   "nbconvert_exporter": "python",
   "pygments_lexer": "ipython3",
   "version": "3.8.3"
  }
 },
 "nbformat": 4,
 "nbformat_minor": 4
}
